{
 "cells": [
  {
   "cell_type": "code",
   "execution_count": 2,
   "id": "1312a0b4",
   "metadata": {},
   "outputs": [],
   "source": [
    "import yfinance as yf\n",
    "import pandas as pd\n",
    "import datetime\n",
    "from statistics import mean\n",
    "import matplotlib.pyplot as plt #pyplot package under the matplotlib package\n",
    "import seaborn as sns\n",
    "%matplotlib inline "
   ]
  },
  {
   "cell_type": "code",
   "execution_count": 199,
   "id": "afec5190",
   "metadata": {},
   "outputs": [],
   "source": [
    "ticker = yf.Ticker(\"0700.hk\")"
   ]
  },
  {
   "cell_type": "markdown",
   "id": "1bd4267f",
   "metadata": {},
   "source": [
    "# set user input parameters"
   ]
  },
  {
   "cell_type": "code",
   "execution_count": 200,
   "id": "8b57ce42",
   "metadata": {},
   "outputs": [],
   "source": [
    "risk_free_rate = 0.02"
   ]
  },
  {
   "cell_type": "code",
   "execution_count": 201,
   "id": "5c308521",
   "metadata": {},
   "outputs": [],
   "source": [
    "market_return_rate = 0.1"
   ]
  },
  {
   "cell_type": "code",
   "execution_count": 202,
   "id": "0e8a2b0b",
   "metadata": {},
   "outputs": [],
   "source": [
    "cap_growth = 1.15"
   ]
  },
  {
   "cell_type": "code",
   "execution_count": 203,
   "id": "edc44b33",
   "metadata": {},
   "outputs": [],
   "source": [
    "current_year = \"2022\""
   ]
  },
  {
   "cell_type": "markdown",
   "id": "e12337e9",
   "metadata": {},
   "source": [
    "# Custom functions "
   ]
  },
  {
   "cell_type": "code",
   "execution_count": 204,
   "id": "50d02486",
   "metadata": {},
   "outputs": [],
   "source": [
    "def clean_dataframe(frame):\n",
    "    frame = frame.T.rename_axis('year').reset_index()\n",
    "    frame[\"year\"] = pd.DatetimeIndex(frame[\"year\"]).year\n",
    "    frame = frame.sort_values(by=['year'], ascending=False)\n",
    "    frame.fillna(0, inplace=True)\n",
    "    return frame"
   ]
  },
  {
   "cell_type": "code",
   "execution_count": 205,
   "id": "abc88bca",
   "metadata": {},
   "outputs": [],
   "source": [
    "def get_DCF_value(history):\n",
    "    #create empty growth list\n",
    "    growth_history = []\n",
    "    \n",
    "    #calculate the growth between each year. add to the list\n",
    "    for i in range(0,(len(ocf_history)-1)):\n",
    "        growth = (history[i] - history[i+1]) / abs(history[i+1])    \n",
    "        growth_history.append(growth)\n",
    "    \n",
    "    #get the average growth\n",
    "    average_growth_rate = 1 + mean(growth_history)\n",
    "    \n",
    "    #for year 4-10, if average growth in year 1-3 is more than 15%, cap it at 15%\n",
    "    if average_growth_rate > cap_growth: \n",
    "        average_growth_rate_cap = cap_growth\n",
    "    else: \n",
    "        average_growth_rate_cap = average_growth_rate\n",
    "        \n",
    "    #project future cash flow (loop properly)\n",
    "    future_value = []\n",
    "    start_value = history[0]\n",
    "    for i in range(1, 11):\n",
    "        #for year 1 - 3, grow by average growth rate\n",
    "        if i <= 3:\n",
    "            value =  start_value * average_growth_rate\n",
    "            future_value.append(value)\n",
    "            start_value = value\n",
    "        #for year 4-10, grow by cap growth rate\n",
    "        elif i > 3:\n",
    "            value =  start_value * average_growth_rate_cap\n",
    "            future_value.append(value)\n",
    "            start_value = value\n",
    "\n",
    "    # convert future values into present value and sum them\n",
    "    present_value = 0 \n",
    "\n",
    "    for i in range(0, len(future_value)):\n",
    "        value = future_value[i] / pow(wacc, (i+1))\n",
    "        present_value += value\n",
    "    \n",
    "    #calculate present value per share\n",
    "    fair_value = present_value/shares\n",
    "    \n",
    "    return fair_value"
   ]
  },
  {
   "cell_type": "code",
   "execution_count": 206,
   "id": "190f3e47",
   "metadata": {},
   "outputs": [],
   "source": [
    "def perpetual_growth_valuation(history):\n",
    "    growth_history = []\n",
    "    \n",
    "    #calculate the growth between each year. add to the list\n",
    "    for i in range(0,(len(history)-1)):\n",
    "        growth = (history[i] - history[i+1]) / abs(history[i+1])    \n",
    "        growth_history.append(growth)\n",
    "\n",
    "    #get the minimum growth\n",
    "    min_growth_rate = 1 + min(growth_history)\n",
    "\n",
    "    #bring to current year and then project for next year. assuming we missed this year's payment\n",
    "    next_payment = history[0] * min_growth_rate * min_growth_rate \n",
    "\n",
    "    #apply formula\n",
    "    valuation = next_payment / (wacc - min_growth_rate)\n",
    "    return valuation"
   ]
  },
  {
   "cell_type": "markdown",
   "id": "0ada79d4",
   "metadata": {},
   "source": [
    "# Download fundementals"
   ]
  },
  {
   "cell_type": "code",
   "execution_count": 207,
   "id": "b869749a",
   "metadata": {},
   "outputs": [
    {
     "data": {
      "text/plain": [
       "dict_keys(['zip', 'sector', 'fullTimeEmployees', 'longBusinessSummary', 'city', 'phone', 'country', 'companyOfficers', 'website', 'maxAge', 'address1', 'industry', 'address2', 'ebitdaMargins', 'profitMargins', 'grossMargins', 'operatingCashflow', 'revenueGrowth', 'operatingMargins', 'ebitda', 'targetLowPrice', 'recommendationKey', 'grossProfits', 'freeCashflow', 'targetMedianPrice', 'currentPrice', 'earningsGrowth', 'currentRatio', 'returnOnAssets', 'numberOfAnalystOpinions', 'targetMeanPrice', 'debtToEquity', 'returnOnEquity', 'targetHighPrice', 'totalCash', 'totalDebt', 'totalRevenue', 'totalCashPerShare', 'financialCurrency', 'revenuePerShare', 'quickRatio', 'recommendationMean', 'exchange', 'shortName', 'longName', 'exchangeTimezoneName', 'exchangeTimezoneShortName', 'isEsgPopulated', 'gmtOffSetMilliseconds', 'quoteType', 'symbol', 'messageBoardId', 'market', 'annualHoldingsTurnover', 'enterpriseToRevenue', 'beta3Year', 'enterpriseToEbitda', '52WeekChange', 'morningStarRiskRating', 'forwardEps', 'revenueQuarterlyGrowth', 'sharesOutstanding', 'fundInceptionDate', 'annualReportExpenseRatio', 'totalAssets', 'bookValue', 'sharesShort', 'sharesPercentSharesOut', 'fundFamily', 'lastFiscalYearEnd', 'heldPercentInstitutions', 'netIncomeToCommon', 'trailingEps', 'lastDividendValue', 'SandP52WeekChange', 'priceToBook', 'heldPercentInsiders', 'nextFiscalYearEnd', 'yield', 'mostRecentQuarter', 'shortRatio', 'sharesShortPreviousMonthDate', 'floatShares', 'beta', 'enterpriseValue', 'priceHint', 'threeYearAverageReturn', 'lastSplitDate', 'lastSplitFactor', 'legalType', 'lastDividendDate', 'morningStarOverallRating', 'earningsQuarterlyGrowth', 'priceToSalesTrailing12Months', 'dateShortInterest', 'pegRatio', 'ytdReturn', 'forwardPE', 'lastCapGain', 'shortPercentOfFloat', 'sharesShortPriorMonth', 'impliedSharesOutstanding', 'category', 'fiveYearAverageReturn', 'previousClose', 'regularMarketOpen', 'twoHundredDayAverage', 'trailingAnnualDividendYield', 'payoutRatio', 'volume24Hr', 'regularMarketDayHigh', 'navPrice', 'averageDailyVolume10Day', 'regularMarketPreviousClose', 'fiftyDayAverage', 'trailingAnnualDividendRate', 'open', 'toCurrency', 'averageVolume10days', 'expireDate', 'algorithm', 'dividendRate', 'exDividendDate', 'circulatingSupply', 'startDate', 'regularMarketDayLow', 'currency', 'trailingPE', 'regularMarketVolume', 'lastMarket', 'maxSupply', 'openInterest', 'marketCap', 'volumeAllCurrencies', 'strikePrice', 'averageVolume', 'dayLow', 'ask', 'askSize', 'volume', 'fiftyTwoWeekHigh', 'fromCurrency', 'fiveYearAvgDividendYield', 'fiftyTwoWeekLow', 'bid', 'tradeable', 'dividendYield', 'bidSize', 'dayHigh', 'coinMarketCapLink', 'regularMarketPrice', 'preMarketPrice', 'logo_url', 'trailingPegRatio'])"
      ]
     },
     "execution_count": 207,
     "metadata": {},
     "output_type": "execute_result"
    }
   ],
   "source": [
    "ticker.info.keys()"
   ]
  },
  {
   "cell_type": "code",
   "execution_count": 208,
   "id": "e9b23b55",
   "metadata": {},
   "outputs": [],
   "source": [
    "shares = ticker.info[\"sharesOutstanding\"]\n",
    "market_cap = ticker.info[\"marketCap\"]\n",
    "beta = ticker.info[\"beta\"]\n"
   ]
  },
  {
   "cell_type": "code",
   "execution_count": 209,
   "id": "51743161",
   "metadata": {},
   "outputs": [
    {
     "data": {
      "text/plain": [
       "\"Tencent Holdings Limited, an investment holding company, provides value-added services (VAS) and Online advertising services in Mainland China and internationally. The company operates through VAS, Online Advertising, FinTech and Business Services, and Others segments. It offers online games and social network services; FinTech and cloud services, and online advertising services. The company is also involved in the production, investment, and distribution of films and television programs for third parties, as well as copyrights licensing, merchandise sales, and other activities. n addition, it develops software; develops and operates online games; and provides information technology, information system integration, asset management, online literature, and online music entertainment services. Tencent Holdings Limited company was founded in 1998 and is headquartered in Shenzhen, the People's Republic of China.\""
      ]
     },
     "execution_count": 209,
     "metadata": {},
     "output_type": "execute_result"
    }
   ],
   "source": [
    "ticker.info[\"longBusinessSummary\"]"
   ]
  },
  {
   "cell_type": "markdown",
   "id": "b3af3b48",
   "metadata": {},
   "source": [
    "# download and clean statements"
   ]
  },
  {
   "cell_type": "code",
   "execution_count": 210,
   "id": "3cad70d4",
   "metadata": {},
   "outputs": [],
   "source": [
    "## income statement \n",
    "IS = ticker.financials\n",
    "IS = clean_dataframe(IS)\n",
    "\n",
    "## balance sheet\n",
    "BS = ticker.balance_sheet\n",
    "BS = clean_dataframe(BS)\n",
    "\n",
    "## cashflow statement\n",
    "CF = ticker.cashflow\n",
    "CF = clean_dataframe(CF)\n",
    "\n",
    "## combined  dataset\n",
    "df = pd.merge(IS, BS, on=\"year\")\n",
    "df = df.merge(CF, on= \"year\")\n",
    "df[\"year\"] = df['year'].astype(str)"
   ]
  },
  {
   "cell_type": "code",
   "execution_count": 211,
   "id": "ec1991fe",
   "metadata": {},
   "outputs": [],
   "source": [
    "#create total debt column\n",
    "debt_types = [\"Short Long Term Debt\",\"Long Term Debt\"] \n",
    "df[\"total_debt\"] = 0\n",
    "\n",
    "for i in debt_types:\n",
    "    if (i in df.columns) == True:\n",
    "        df[\"total_debt\"]  += df[i]"
   ]
  },
  {
   "cell_type": "code",
   "execution_count": 212,
   "id": "5c807b1c",
   "metadata": {},
   "outputs": [],
   "source": [
    "#free cash flow\n",
    "df[\"FCF\"]= df['Total Cash From Operating Activities'] + df['Capital Expenditures']"
   ]
  },
  {
   "cell_type": "code",
   "execution_count": 213,
   "id": "0f19b36c",
   "metadata": {},
   "outputs": [],
   "source": [
    "#Return on Equity\n",
    "df[\"ROE\"] = df[\"Net Income Applicable To Common Shares\"] / df[\"Total Stockholder Equity\"]"
   ]
  },
  {
   "cell_type": "code",
   "execution_count": 214,
   "id": "52ddc0bc",
   "metadata": {},
   "outputs": [],
   "source": [
    "#current ratio\n",
    "df['current_ratio'] = df['Total Current Assets'] / df['Total Current Liabilities']"
   ]
  },
  {
   "cell_type": "code",
   "execution_count": 215,
   "id": "806defe1",
   "metadata": {},
   "outputs": [],
   "source": [
    "#debt_to_equity\n",
    "df[\"debt_to_equity\"] = df[\"total_debt\"] / df['Total Stockholder Equity']"
   ]
  },
  {
   "cell_type": "markdown",
   "id": "b239b4a5",
   "metadata": {},
   "source": [
    "# Charts "
   ]
  },
  {
   "cell_type": "code",
   "execution_count": 216,
   "id": "7d8f818f",
   "metadata": {},
   "outputs": [
    {
     "data": {
      "text/plain": [
       "['2018', '2019', '2020', '2021']"
      ]
     },
     "execution_count": 216,
     "metadata": {},
     "output_type": "execute_result"
    }
   ],
   "source": [
    "axis = list(df[\"year\"])\n",
    "axis = sorted(axis)\n",
    "axis"
   ]
  },
  {
   "cell_type": "markdown",
   "id": "bc38e13e",
   "metadata": {},
   "source": [
    "## cashflows"
   ]
  },
  {
   "cell_type": "code",
   "execution_count": 217,
   "id": "a1b359da",
   "metadata": {},
   "outputs": [
    {
     "name": "stderr",
     "output_type": "stream",
     "text": [
      "C:\\Users\\FAN_HUI\\anaconda3\\lib\\site-packages\\seaborn\\_decorators.py:36: FutureWarning: Pass the following variables as keyword args: x, y. From version 0.12, the only valid positional argument will be `data`, and passing other arguments without an explicit keyword will result in an error or misinterpretation.\n",
      "  warnings.warn(\n",
      "C:\\Users\\FAN_HUI\\anaconda3\\lib\\site-packages\\seaborn\\_decorators.py:36: FutureWarning: Pass the following variables as keyword args: x, y. From version 0.12, the only valid positional argument will be `data`, and passing other arguments without an explicit keyword will result in an error or misinterpretation.\n",
      "  warnings.warn(\n",
      "C:\\Users\\FAN_HUI\\anaconda3\\lib\\site-packages\\seaborn\\_decorators.py:36: FutureWarning: Pass the following variables as keyword args: x, y. From version 0.12, the only valid positional argument will be `data`, and passing other arguments without an explicit keyword will result in an error or misinterpretation.\n",
      "  warnings.warn(\n",
      "C:\\Users\\FAN_HUI\\anaconda3\\lib\\site-packages\\seaborn\\_decorators.py:36: FutureWarning: Pass the following variables as keyword args: x, y. From version 0.12, the only valid positional argument will be `data`, and passing other arguments without an explicit keyword will result in an error or misinterpretation.\n",
      "  warnings.warn(\n"
     ]
    },
    {
     "data": {
      "image/png": "[encoded data removed]",
      "text/plain": [
       "<Figure size 1440x864 with 6 Axes>"
      ]
     },
     "metadata": {
      "needs_background": "light"
     },
     "output_type": "display_data"
    }
   ],
   "source": [
    "fig, axes = plt.subplots(2, 3,figsize=(20,12))\n",
    "\n",
    "\n",
    "cashflow_df = df[[\"year\",\"Total Cash From Operating Activities\",\"Total Cashflows From Investing Activities\", \"Total Cash From Financing Activities\"]]\n",
    "cashflow_df = cashflow_df.melt(id_vars=\"year\",var_name=\"cashflow\",value_name=\"amount\")\n",
    "sns.barplot(\"year\", \"amount\", data=cashflow_df, hue = \"cashflow\", palette = [\"orange\", \"blue\", \"red\"], order=axis, ax=axes[0,0])\n",
    "axes[0,0].set(title=\"Cashflows\")\n",
    "\n",
    "fcf_df = df[[\"year\",\"FCF\", \"total_debt\"]]\n",
    "fcf_df = fcf_df.melt(id_vars=\"year\",var_name=\"cashflow\",value_name=\"amount\")\n",
    "sns.barplot(\"year\", \"amount\", data=fcf_df, hue = \"cashflow\", palette = [\"green\", \"red\"], order=axis, ax=axes[0,1])\n",
    "axes[0,1].set(title=\"Free CF vs Debt\")\n",
    "\n",
    "cashflow_income= df[[\"year\",\"Total Cash From Operating Activities\",'Net Income Applicable To Common Shares']]\n",
    "cashflow_income = cashflow_income.melt(id_vars=\"year\",var_name=\"source\",value_name=\"amount\")\n",
    "sns.barplot(\"year\", \"amount\", data=cashflow_income, hue = \"source\", palette = [\"orange\", \"tan\"], order=axis,ax=axes[0,2])\n",
    "axes[0,2].set(title=\"Operating CF vs Net Income\")\n",
    "\n",
    "\n",
    "#dividends already adjusted for stock split according to yahoo finance\n",
    "dividend_history = ticker.actions\n",
    "dividend_history = dividend_history.rename_axis('year').reset_index()\n",
    "dividend_history[\"year\"] = pd.DatetimeIndex(dividend_history[\"year\"]).year\n",
    "dividend_history = dividend_history[dividend_history[\"Stock Splits\"]==0]\n",
    "dividend_history = dividend_history[[\"year\", \"Dividends\"]]\n",
    "dividend_history = dividend_history.groupby(\"year\").sum()\n",
    "\n",
    "if len(dividend_history)>0:\n",
    "    sns.barplot(\"year\", \"Dividends\", data=dividend_history.reset_index(), color = \"skyblue\", ax=axes[1,0])\n",
    "    axes[1,0].tick_params(axis='x', rotation=45)\n",
    "    axes[1,0].set(title=\"Dividends\")\n",
    "else:\n",
    "    sns.barplot(x = axis, y=[0] * len(axis) ,color = \"skyblue\", ax=axes[1,0])\n",
    "    axes[1,0].tick_params(axis='x', rotation=45)   \n",
    "    axes[1,0].set(title=\"Dividends\")"
   ]
  },
  {
   "cell_type": "markdown",
   "id": "e23dd7a6",
   "metadata": {},
   "source": [
    "## balancesheet"
   ]
  },
  {
   "cell_type": "code",
   "execution_count": 218,
   "id": "37ad757a",
   "metadata": {},
   "outputs": [
    {
     "name": "stderr",
     "output_type": "stream",
     "text": [
      "C:\\Users\\FAN_HUI\\anaconda3\\lib\\site-packages\\seaborn\\_decorators.py:36: FutureWarning: Pass the following variables as keyword args: x, y. From version 0.12, the only valid positional argument will be `data`, and passing other arguments without an explicit keyword will result in an error or misinterpretation.\n",
      "  warnings.warn(\n",
      "<ipython-input-218-4acf4d477a06>:9: SettingWithCopyWarning: \n",
      "A value is trying to be set on a copy of a slice from a DataFrame.\n",
      "Try using .loc[row_indexer,col_indexer] = value instead\n",
      "\n",
      "See the caveats in the documentation: https://pandas.pydata.org/pandas-docs/stable/user_guide/indexing.html#returning-a-view-versus-a-copy\n",
      "  balancesheet_df[\"Total_long term_liab\"] = balancesheet_df[\"Total Liab\"] - balancesheet_df[\"Total Current Liabilities\"]\n",
      "C:\\Users\\FAN_HUI\\anaconda3\\lib\\site-packages\\pandas\\core\\frame.py:4308: SettingWithCopyWarning: \n",
      "A value is trying to be set on a copy of a slice from a DataFrame\n",
      "\n",
      "See the caveats in the documentation: https://pandas.pydata.org/pandas-docs/stable/user_guide/indexing.html#returning-a-view-versus-a-copy\n",
      "  return super().drop(\n",
      "C:\\Users\\FAN_HUI\\anaconda3\\lib\\site-packages\\seaborn\\_decorators.py:36: FutureWarning: Pass the following variables as keyword args: x, y. From version 0.12, the only valid positional argument will be `data`, and passing other arguments without an explicit keyword will result in an error or misinterpretation.\n",
      "  warnings.warn(\n",
      "C:\\Users\\FAN_HUI\\anaconda3\\lib\\site-packages\\seaborn\\_decorators.py:36: FutureWarning: Pass the following variables as keyword args: x, y. From version 0.12, the only valid positional argument will be `data`, and passing other arguments without an explicit keyword will result in an error or misinterpretation.\n",
      "  warnings.warn(\n",
      "C:\\Users\\FAN_HUI\\anaconda3\\lib\\site-packages\\seaborn\\_decorators.py:36: FutureWarning: Pass the following variables as keyword args: x, y. From version 0.12, the only valid positional argument will be `data`, and passing other arguments without an explicit keyword will result in an error or misinterpretation.\n",
      "  warnings.warn(\n"
     ]
    },
    {
     "data": {
      "text/plain": [
       "[Text(0.5, 1.0, 'Current Ratio and Debt to Equity')]"
      ]
     },
     "execution_count": 218,
     "metadata": {},
     "output_type": "execute_result"
    },
    {
     "data": {
      "image/png": "[encoded data removed]",
      "text/plain": [
       "<Figure size 1440x864 with 6 Axes>"
      ]
     },
     "metadata": {
      "needs_background": "light"
     },
     "output_type": "display_data"
    }
   ],
   "source": [
    "fig2, axes = plt.subplots(2, 3,figsize=(20,12))\n",
    "\n",
    "balancesheet_prop= df[[\"year\",'Cash', \"total_debt\", 'Total Assets']]\n",
    "balancesheet_prop = balancesheet_prop.melt(id_vars=\"year\",var_name=\"source\",value_name=\"amount\")\n",
    "sns.barplot(\"year\", \"amount\", data=balancesheet_prop, hue = \"source\", palette = [\"green\", \"red\", 'black', \"black\"], order=axis,ax=axes[0,0])\n",
    "axes[0,0].set(title=\"Cash, Debt and Total Asset\")\n",
    "\n",
    "balancesheet_df = BS[[\"year\",'Total Stockholder Equity','Total Current Liabilities','Total Liab']]\n",
    "balancesheet_df[\"Total_long term_liab\"] = balancesheet_df[\"Total Liab\"] - balancesheet_df[\"Total Current Liabilities\"] \n",
    "balancesheet_df.drop(\"Total Liab\",axis=\"columns\", inplace =True)\n",
    "balancesheet_df = balancesheet_df.set_index(\"year\").sort_index()\n",
    "balancesheet_df = balancesheet_df.div(balancesheet_df.sum(axis=1), axis=0)\n",
    "balancesheet_df.plot(kind='bar', stacked=True, color=['blue', 'brown', 'red'], ax=axes[0,1])\n",
    "axes[0,1].set(title=\"Balancesheet Proportion\")\n",
    "\n",
    "sns.lineplot(df[\"year\"], df[\"ROE\"], ax=axes[0,2])\n",
    "axes[0,2].invert_xaxis()\n",
    "axes[0,2].set(title=\"ROE\")\n",
    "\n",
    "bs_ratio_df = df[[\"year\",\"current_ratio\", \"debt_to_equity\"]]\n",
    "bs_ratio_df = bs_ratio_df.melt(id_vars=\"year\",var_name=\"ratio\",value_name=\"amount\")\n",
    "sns.lineplot(bs_ratio_df[\"year\"], bs_ratio_df[\"amount\"],hue=bs_ratio_df[\"ratio\"], palette=[\"blue\", \"red\"], ax=axes[1,0])\n",
    "sns.lineplot(bs_ratio_df[\"year\"], 1, color = \"black\", linestyle=\"--\", ax=axes[1,0])\n",
    "axes[1,0].invert_xaxis()\n",
    "axes[1,0].set(title=\"Current Ratio and Debt to Equity\")"
   ]
  },
  {
   "cell_type": "markdown",
   "id": "3e10a6b6",
   "metadata": {},
   "source": [
    "# WACC calculations"
   ]
  },
  {
   "cell_type": "markdown",
   "id": "4068f00f",
   "metadata": {},
   "source": [
    "## Extract lates year data"
   ]
  },
  {
   "cell_type": "code",
   "execution_count": 219,
   "id": "05aa115d",
   "metadata": {},
   "outputs": [],
   "source": [
    "latest_year = df.iloc[0]"
   ]
  },
  {
   "cell_type": "markdown",
   "id": "f478bd35",
   "metadata": {},
   "source": [
    "## debt section "
   ]
  },
  {
   "cell_type": "code",
   "execution_count": 220,
   "id": "3f3124f1",
   "metadata": {},
   "outputs": [],
   "source": [
    "debt = latest_year[\"total_debt\"]\n",
    "\n",
    "total_wacc_value = debt + market_cap\n",
    "total_wacc_value\n",
    "\n",
    "debt_weight = debt/total_wacc_value\n",
    "\n",
    "if abs(latest_year['Interest Expense']) != 0 and debt!=0:\n",
    "    debt_cost = abs(latest_year['Interest Expense']) / debt\n",
    "elif abs(latest_year['Interest Expense']) == 0 and debt==0:\n",
    "    debt_cost = 0\n",
    "elif abs(latest_year['Interest Expense']) != 0 and debt==0:\n",
    "    debt_cost = 0\n",
    "\n",
    "tax_rate = latest_year['Income Tax Expense'] / latest_year['Income Before Tax']"
   ]
  },
  {
   "cell_type": "code",
   "execution_count": 221,
   "id": "d72f9ca4",
   "metadata": {},
   "outputs": [
    {
     "data": {
      "text/plain": [
       "3406207519936.0"
      ]
     },
     "execution_count": 221,
     "metadata": {},
     "output_type": "execute_result"
    }
   ],
   "source": [
    "total_wacc_value"
   ]
  },
  {
   "cell_type": "markdown",
   "id": "58a3c283",
   "metadata": {},
   "source": [
    "## equity section"
   ]
  },
  {
   "cell_type": "code",
   "execution_count": 222,
   "id": "f7dc7dc9",
   "metadata": {},
   "outputs": [],
   "source": [
    "# beta = 1"
   ]
  },
  {
   "cell_type": "code",
   "execution_count": 223,
   "id": "d9c40be3",
   "metadata": {},
   "outputs": [
    {
     "data": {
      "text/plain": [
       "0.368495"
      ]
     },
     "execution_count": 223,
     "metadata": {},
     "output_type": "execute_result"
    }
   ],
   "source": [
    "beta"
   ]
  },
  {
   "cell_type": "code",
   "execution_count": 224,
   "id": "40978872",
   "metadata": {},
   "outputs": [
    {
     "data": {
      "text/plain": [
       "0.0494796"
      ]
     },
     "execution_count": 224,
     "metadata": {},
     "output_type": "execute_result"
    }
   ],
   "source": [
    "equity_weight =  market_cap/total_wacc_value\n",
    "\n",
    "equity_cost = risk_free_rate +  beta*(market_return_rate-risk_free_rate)\n",
    "equity_cost"
   ]
  },
  {
   "cell_type": "markdown",
   "id": "e8c649e4",
   "metadata": {},
   "source": [
    "## WACC"
   ]
  },
  {
   "cell_type": "code",
   "execution_count": 225,
   "id": "7036dc40",
   "metadata": {},
   "outputs": [
    {
     "data": {
      "text/plain": [
       "1.0474257830587517"
      ]
     },
     "execution_count": 225,
     "metadata": {},
     "output_type": "execute_result"
    }
   ],
   "source": [
    "wacc = ((equity_weight * equity_cost) + (debt_weight * debt_cost * (1-tax_rate))) + 1\n",
    "wacc"
   ]
  },
  {
   "cell_type": "markdown",
   "id": "213d0744",
   "metadata": {},
   "source": [
    "# Discounted Growth Model"
   ]
  },
  {
   "cell_type": "markdown",
   "id": "986763ff",
   "metadata": {},
   "source": [
    "## a) Cashflow"
   ]
  },
  {
   "cell_type": "code",
   "execution_count": 226,
   "id": "a2a8b994",
   "metadata": {},
   "outputs": [
    {
     "data": {
      "text/plain": [
       "341.5027016754877"
      ]
     },
     "execution_count": 226,
     "metadata": {},
     "output_type": "execute_result"
    }
   ],
   "source": [
    "# averge growth rate\n",
    "ocf_history = list(df['Total Cash From Operating Activities'])\n",
    "get_DCF_value(ocf_history)"
   ]
  },
  {
   "cell_type": "markdown",
   "id": "1823a090",
   "metadata": {},
   "source": [
    "## b) Income"
   ]
  },
  {
   "cell_type": "code",
   "execution_count": 227,
   "id": "45754730",
   "metadata": {},
   "outputs": [
    {
     "data": {
      "text/plain": [
       "758.179080555915"
      ]
     },
     "execution_count": 227,
     "metadata": {},
     "output_type": "execute_result"
    }
   ],
   "source": [
    "ic_history = list(df['Net Income Applicable To Common Shares'])\n",
    "get_DCF_value(ic_history)"
   ]
  },
  {
   "cell_type": "markdown",
   "id": "3c74c5c8",
   "metadata": {},
   "source": [
    "## c) Free Cash Flow"
   ]
  },
  {
   "cell_type": "code",
   "execution_count": 228,
   "id": "057f34f0",
   "metadata": {},
   "outputs": [
    {
     "data": {
      "text/plain": [
       "287.76742368690134"
      ]
     },
     "execution_count": 228,
     "metadata": {},
     "output_type": "execute_result"
    }
   ],
   "source": [
    "fcf_history = list(df[\"FCF\"])\n",
    "get_DCF_value(fcf_history)"
   ]
  },
  {
   "cell_type": "markdown",
   "id": "20ad86bc",
   "metadata": {},
   "source": [
    "# Dividend Discount Model "
   ]
  },
  {
   "cell_type": "markdown",
   "id": "e65a0a9d",
   "metadata": {},
   "source": [
    "## a) perpetual dividend growth "
   ]
  },
  {
   "cell_type": "code",
   "execution_count": 229,
   "id": "d15e8ef8",
   "metadata": {},
   "outputs": [],
   "source": [
    "#get the only completed years with all dividends paid out. Company with fiscal year at the start of year still haven't \n",
    "#completed dividend pay out for the year\n",
    "dividend_year = []\n",
    "if axis[-1] == current_year:\n",
    "    for i in range(0, len(axis)): \n",
    "        dividend_year.append(int(axis[i])-1)\n",
    "        print(dividend_year[i])\n",
    "else: \n",
    "    dividend_year = [int(year) for year in axis]"
   ]
  },
  {
   "cell_type": "code",
   "execution_count": 230,
   "id": "2544b6b8",
   "metadata": {},
   "outputs": [
    {
     "name": "stdout",
     "output_type": "stream",
     "text": [
      "past 4 complete yearly dividend payout are:  [1.6, 1.2, 1.0, 0.88]\n",
      "DDM valuations is:  -23.231004861299763\n"
     ]
    }
   ],
   "source": [
    "if len(dividend_history)>0:\n",
    "    #filter the last 4 years of dividends payment\n",
    "    dividend_history = dividend_history[dividend_history.index.isin(dividend_year)]\n",
    "    dividend_history = dividend_history.sort_index(ascending=False)\n",
    "    dividend_history = list(dividend_history[\"Dividends\"])\n",
    "    DDM_valuation = perpetual_growth_valuation(dividend_history)\n",
    "else: \n",
    "    DDM_valuation = 0\n",
    " \n",
    "print(\"past 4 complete yearly dividend payout are: \", dividend_history)\n",
    "print(\"DDM valuations is: \", DDM_valuation)"
   ]
  },
  {
   "cell_type": "markdown",
   "id": "b5694b93",
   "metadata": {},
   "source": [
    "### b) perpetual FCF growth"
   ]
  },
  {
   "cell_type": "code",
   "execution_count": 231,
   "id": "b16a4669",
   "metadata": {},
   "outputs": [
    {
     "data": {
      "text/plain": [
       "92.71677348565726"
      ]
     },
     "execution_count": 231,
     "metadata": {},
     "output_type": "execute_result"
    }
   ],
   "source": [
    "perpetual_growth_valuation(fcf_history)/shares"
   ]
  },
  {
   "cell_type": "markdown",
   "id": "e8c9bf98",
   "metadata": {},
   "source": [
    "# Other matrixes"
   ]
  },
  {
   "cell_type": "code",
   "execution_count": 232,
   "id": "08a11f0e",
   "metadata": {},
   "outputs": [
    {
     "data": {
      "text/plain": [
       "77.184"
      ]
     },
     "execution_count": 232,
     "metadata": {},
     "output_type": "execute_result"
    }
   ],
   "source": [
    "book_value = ticker.info[\"bookValue\"]\n",
    "book_value"
   ]
  },
  {
   "cell_type": "code",
   "execution_count": 233,
   "id": "c74f11c2",
   "metadata": {},
   "outputs": [
    {
     "data": {
      "text/plain": [
       "13.639041"
      ]
     },
     "execution_count": 233,
     "metadata": {},
     "output_type": "execute_result"
    }
   ],
   "source": [
    "PE_ratio = ticker.info[\"trailingPE\"]\n",
    "PE_ratio"
   ]
  },
  {
   "cell_type": "code",
   "execution_count": 234,
   "id": "3b2251f3",
   "metadata": {},
   "outputs": [
    {
     "data": {
      "text/plain": [
       "1.1198"
      ]
     },
     "execution_count": 234,
     "metadata": {},
     "output_type": "execute_result"
    }
   ],
   "source": [
    "ticker.info[\"trailingPegRatio\"]"
   ]
  },
  {
   "cell_type": "code",
   "execution_count": 235,
   "id": "a78878f5",
   "metadata": {},
   "outputs": [
    {
     "data": {
      "text/plain": [
       "0.0636"
      ]
     },
     "execution_count": 235,
     "metadata": {},
     "output_type": "execute_result"
    }
   ],
   "source": [
    "ticker.info[\"payoutRatio\"]"
   ]
  },
  {
   "cell_type": "markdown",
   "id": "4c511da1",
   "metadata": {},
   "source": [
    "# Analyst's recommendations"
   ]
  },
  {
   "cell_type": "code",
   "execution_count": 236,
   "id": "d1a13c1b",
   "metadata": {},
   "outputs": [
    {
     "ename": "TypeError",
     "evalue": "'NoneType' object is not subscriptable",
     "output_type": "error",
     "traceback": [
      "\u001b[1;31m---------------------------------------------------------------------------\u001b[0m",
      "\u001b[1;31mTypeError\u001b[0m                                 Traceback (most recent call last)",
      "\u001b[1;32m<ipython-input-236-e85a603ae382>\u001b[0m in \u001b[0;36m<module>\u001b[1;34m\u001b[0m\n\u001b[1;32m----> 1\u001b[1;33m \u001b[0mticker\u001b[0m\u001b[1;33m.\u001b[0m\u001b[0mrecommendations\u001b[0m\u001b[1;33m[\u001b[0m\u001b[1;34m\"To Grade\"\u001b[0m\u001b[1;33m]\u001b[0m\u001b[1;33m.\u001b[0m\u001b[0mvalue_counts\u001b[0m\u001b[1;33m(\u001b[0m\u001b[1;33m)\u001b[0m\u001b[1;33m.\u001b[0m\u001b[0mhead\u001b[0m\u001b[1;33m(\u001b[0m\u001b[1;36m8\u001b[0m\u001b[1;33m)\u001b[0m\u001b[1;33m\u001b[0m\u001b[1;33m\u001b[0m\u001b[0m\n\u001b[0m",
      "\u001b[1;31mTypeError\u001b[0m: 'NoneType' object is not subscriptable"
     ]
    }
   ],
   "source": [
    "ticker.recommendations[\"To Grade\"].value_counts().head(8)"
   ]
  },
  {
   "cell_type": "markdown",
   "id": "690aeb01",
   "metadata": {},
   "source": [
    "# Development area"
   ]
  },
  {
   "cell_type": "markdown",
   "id": "f6f9b547",
   "metadata": {},
   "source": [
    "## cashflows"
   ]
  },
  {
   "cell_type": "code",
   "execution_count": 192,
   "id": "cc29da4e",
   "metadata": {},
   "outputs": [],
   "source": [
    "# axis = list(df[\"year\"])\n",
    "# axis = sorted(axis)\n",
    "# axis"
   ]
  },
  {
   "cell_type": "code",
   "execution_count": 37,
   "id": "028c4ab4",
   "metadata": {},
   "outputs": [],
   "source": [
    "# cashflow_df = df[[\"year\",\"Total Cash From Operating Activities\",\"Total Cashflows From Investing Activities\", \"Total Cash From Financing Activities\"]]\n",
    "# cashflow_df = cashflow_df.melt(id_vars=\"year\",var_name=\"cashflow\",value_name=\"amount\")\n",
    "# sns.barplot(\"year\", \"amount\", data=cashflow_df, hue = \"cashflow\", palette = [\"orange\", \"blue\", \"red\"], order=axis)"
   ]
  },
  {
   "cell_type": "code",
   "execution_count": 38,
   "id": "6ed1832a",
   "metadata": {},
   "outputs": [],
   "source": [
    "# fcf_df = df[[\"year\",\"FCF\", \"total_debt\"]]\n",
    "# fcf_df = fcf_df.melt(id_vars=\"year\",var_name=\"cashflow\",value_name=\"amount\")\n",
    "# sns.barplot(\"year\", \"amount\", data=fcf_df, hue = \"cashflow\", palette = [\"green\", \"red\"], order=axis)"
   ]
  },
  {
   "cell_type": "code",
   "execution_count": 40,
   "id": "3c811039",
   "metadata": {},
   "outputs": [],
   "source": [
    "# cashflow_income= df[[\"year\",\"Total Cash From Operating Activities\",'Net Income Applicable To Common Shares']]\n",
    "# cashflow_income = cashflow_income.melt(id_vars=\"year\",var_name=\"source\",value_name=\"amount\")\n",
    "# sns.barplot(\"year\", \"amount\", data=cashflow_income, hue = \"source\", palette = [\"orange\", \"tan\"], order=axis)"
   ]
  },
  {
   "cell_type": "markdown",
   "id": "3ae576ad",
   "metadata": {},
   "source": [
    "## balance sheet"
   ]
  },
  {
   "cell_type": "code",
   "execution_count": 58,
   "id": "c32f871d",
   "metadata": {},
   "outputs": [],
   "source": [
    "# balancesheet_prop= df[[\"year\",'Cash', \"total_debt\", 'Total Assets']]\n",
    "# balancesheet_prop = balancesheet_prop.melt(id_vars=\"year\",var_name=\"source\",value_name=\"amount\")\n",
    "# sns.barplot(\"year\", \"amount\", data=balancesheet_prop, hue = \"source\", palette = [\"green\", \"red\", 'black', \"black\"], order=axis)"
   ]
  },
  {
   "cell_type": "code",
   "execution_count": 61,
   "id": "8f5f06ef",
   "metadata": {},
   "outputs": [],
   "source": [
    "# balancesheet_df = BS[[\"year\",'Total Stockholder Equity','Total Current Liabilities','Total Liab']]\n",
    "# balancesheet_df[\"Total_long term_liab\"] = balancesheet_df[\"Total Liab\"] - balancesheet_df[\"Total Current Liabilities\"] \n",
    "# balancesheet_df.drop(\"Total Liab\",axis=\"columns\", inplace =True)\n",
    "# balancesheet_df = balancesheet_df.set_index(\"year\").sort_index()\n",
    "# balancesheet_df = balancesheet_df.div(balancesheet_df.sum(axis=1), axis=0)\n",
    "# balancesheet_df.plot(kind='bar', stacked=True, color=['blue', 'brown', 'red'])"
   ]
  },
  {
   "cell_type": "code",
   "execution_count": 67,
   "id": "84b2c52e",
   "metadata": {
    "scrolled": true
   },
   "outputs": [],
   "source": [
    "# ax = sns.lineplot(df[\"year\"], df[\"ROE\"])\n",
    "# ax.invert_xaxis()\n",
    "# ax.set(title=\"ROE\")\n",
    "# ax.legend()"
   ]
  },
  {
   "cell_type": "code",
   "execution_count": 70,
   "id": "a371a017",
   "metadata": {},
   "outputs": [],
   "source": [
    "# bs_ratio_df = df[[\"year\",\"current_ratio\", \"debt_to_equity\"]]\n",
    "# bs_ratio_df = bs_ratio_df.melt(id_vars=\"year\",var_name=\"ratio\",value_name=\"amount\")\n",
    "# ax = sns.lineplot(bs_ratio_df[\"year\"], bs_ratio_df[\"amount\"],hue=bs_ratio_df[\"ratio\"], palette=[\"blue\", \"red\"])\n",
    "# ax = sns.lineplot(bs_ratio_df[\"year\"], 1, color = \"black\", linestyle=\"--\")\n",
    "# ax.invert_xaxis()\n",
    "# ax.legend()"
   ]
  },
  {
   "cell_type": "markdown",
   "id": "60f51b1a",
   "metadata": {},
   "source": [
    "## net income"
   ]
  }
 ],
 "metadata": {
  "kernelspec": {
   "display_name": "Python 3",
   "language": "python",
   "name": "python3"
  },
  "language_info": {
   "codemirror_mode": {
    "name": "ipython",
    "version": 3
   },
   "file_extension": ".py",
   "mimetype": "text/x-python",
   "name": "python",
   "nbconvert_exporter": "python",
   "pygments_lexer": "ipython3",
   "version": "3.8.8"
  }
 },
 "nbformat": 4,
 "nbformat_minor": 5
}
