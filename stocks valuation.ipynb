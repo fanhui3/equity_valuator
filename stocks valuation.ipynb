{
 "cells": [
  {
   "cell_type": "code",
   "execution_count": 1,
   "id": "1312a0b4",
   "metadata": {},
   "outputs": [],
   "source": [
    "import yfinance as yf\n",
    "import pandas as pd\n",
    "import datetime\n",
    "from statistics import mean\n",
    "import matplotlib.pyplot as plt #pyplot package under the matplotlib package\n",
    "import seaborn as sns\n",
    "import math\n",
    "\n",
    "plt.style.use(\"ggplot\")\n",
    " \n",
    "\n",
    "import warnings\n",
    "warnings.simplefilter(action='ignore', category=FutureWarning)\n",
    "pd.options.mode.chained_assignment = None  # default='warn'"
   ]
  },
  {
   "cell_type": "code",
   "execution_count": 66,
   "id": "afec5190",
   "metadata": {},
   "outputs": [],
   "source": [
    "ticker = yf.Ticker(\"ddog\")"
   ]
  },
  {
   "cell_type": "code",
   "execution_count": 69,
   "id": "c113a8f3",
   "metadata": {},
   "outputs": [
    {
     "data": {
      "text/plain": [
       "\"Datadog, Inc. provides monitoring and analytics platform for developers, information technology operations teams, and business users in the cloud in North America and internationally. The company's SaaS platform integrates and automates infrastructure monitoring, application performance monitoring, log management, and security monitoring to provide real-time observability of its customers technology stack. Its platform also provides user experience monitoring, network performance monitoring, cloud security, developer-focused observability, and incident management, as well as a range of shared features, such as dashboards, analytics, collaboration tools, and alerting capabilities. The company was incorporated in 2010 and is headquartered in New York, New York.\""
      ]
     },
     "execution_count": 69,
     "metadata": {},
     "output_type": "execute_result"
    }
   ],
   "source": [
    "ticker.info[\"longBusinessSummary\"]\n",
    "# ticker.info[\"logo_url\"]"
   ]
  },
  {
   "cell_type": "markdown",
   "id": "1bd4267f",
   "metadata": {},
   "source": [
    "# set user input parameters"
   ]
  },
  {
   "cell_type": "code",
   "execution_count": 70,
   "id": "8b57ce42",
   "metadata": {},
   "outputs": [],
   "source": [
    "risk_free_rate = 0.0302"
   ]
  },
  {
   "cell_type": "code",
   "execution_count": 71,
   "id": "5c308521",
   "metadata": {},
   "outputs": [],
   "source": [
    "market_return_rate = 0.1"
   ]
  },
  {
   "cell_type": "code",
   "execution_count": 72,
   "id": "0e8a2b0b",
   "metadata": {},
   "outputs": [],
   "source": [
    "cap_growth = 1.15"
   ]
  },
  {
   "cell_type": "code",
   "execution_count": 73,
   "id": "edc44b33",
   "metadata": {},
   "outputs": [],
   "source": [
    "current_year = \"2022\""
   ]
  },
  {
   "cell_type": "markdown",
   "id": "e12337e9",
   "metadata": {},
   "source": [
    "# Custom functions "
   ]
  },
  {
   "cell_type": "code",
   "execution_count": 74,
   "id": "50d02486",
   "metadata": {},
   "outputs": [],
   "source": [
    "def clean_dataframe(frame):\n",
    "    frame = frame.T.rename_axis('year').reset_index()\n",
    "    frame[\"year\"] = pd.DatetimeIndex(frame[\"year\"]).year\n",
    "    frame = frame.sort_values(by=['year'], ascending=False)\n",
    "    frame.fillna(0, inplace=True)\n",
    "    return frame"
   ]
  },
  {
   "cell_type": "code",
   "execution_count": 75,
   "id": "abc88bca",
   "metadata": {},
   "outputs": [],
   "source": [
    "def get_DCF_value(history):\n",
    "    #create empty growth list\n",
    "    growth_history = []\n",
    "    \n",
    "    #calculate the growth between each year. add to the list\n",
    "    for i in range(0,(len(ocf_history)-1)):\n",
    "        growth = (history[i] - history[i+1]) / abs(history[i+1])    \n",
    "        growth_history.append(growth)\n",
    "    \n",
    "    #get the average growth\n",
    "    average_growth_rate = 1 + mean(growth_history)\n",
    "    \n",
    "    #for year 4-10, if average growth in year 1-3 is more than 15%, cap it at 15%\n",
    "    if average_growth_rate > cap_growth: \n",
    "        average_growth_rate_cap = cap_growth\n",
    "    else: \n",
    "        average_growth_rate_cap = average_growth_rate\n",
    "        \n",
    "    #project future cash flow (loop properly)\n",
    "    future_value = []\n",
    "    start_value = history[0]\n",
    "    for i in range(1, 11):\n",
    "        #for year 1 - 3, grow by average growth rate\n",
    "        if i <= 3:\n",
    "            value =  start_value * average_growth_rate\n",
    "            future_value.append(value)\n",
    "            start_value = value\n",
    "        #for year 4-10, grow by cap growth rate\n",
    "        elif i > 3:\n",
    "            value =  start_value * average_growth_rate_cap\n",
    "            future_value.append(value)\n",
    "            start_value = value\n",
    "\n",
    "    # convert future values into present value and sum them\n",
    "    present_value = 0 \n",
    "\n",
    "    for i in range(0, len(future_value)):\n",
    "        value = future_value[i] / pow(wacc, (i+1))\n",
    "        present_value += value\n",
    "    \n",
    "    #calculate present value per share\n",
    "    fair_value = present_value/shares\n",
    "    \n",
    "    return fair_value"
   ]
  },
  {
   "cell_type": "code",
   "execution_count": 76,
   "id": "82eddf16",
   "metadata": {},
   "outputs": [],
   "source": [
    "def get_cagr_DCF_value(history):\n",
    "    #calculate CAGR\n",
    "    base = history[0] / history[-1]\n",
    "    power = 1/(len(history)-1)\n",
    "    average_growth_rate = math.pow(base, power)\n",
    "\n",
    " #for year 4-10, if average growth in year 1-3 is more than 15%, cap it at 15%\n",
    "    if average_growth_rate > cap_growth: \n",
    "        average_growth_rate_cap = cap_growth\n",
    "    else: \n",
    "        average_growth_rate_cap = average_growth_rate\n",
    "        \n",
    "    #project future cash flow (loop properly)\n",
    "    future_value = []\n",
    "    start_value = history[0]\n",
    "    for i in range(1, 11):\n",
    "        #for year 1 - 3, grow by average growth rate\n",
    "        if i <= 3:\n",
    "            value =  start_value * average_growth_rate\n",
    "            future_value.append(value)\n",
    "            start_value = value\n",
    "        #for year 4-10, grow by cap growth rate\n",
    "        elif i > 3:\n",
    "            value =  start_value * average_growth_rate_cap\n",
    "            future_value.append(value)\n",
    "            start_value = value\n",
    "\n",
    "    # convert future values into present value and sum them\n",
    "    present_value = 0 \n",
    "\n",
    "    for i in range(0, len(future_value)):\n",
    "        value = future_value[i] / pow(wacc, (i+1))\n",
    "        present_value += value\n",
    "    \n",
    "    #calculate present value per share\n",
    "    fair_value = present_value/shares\n",
    "    \n",
    "    return fair_value"
   ]
  },
  {
   "cell_type": "code",
   "execution_count": 77,
   "id": "d60c041c",
   "metadata": {},
   "outputs": [],
   "source": [
    "def DCF_valuation_report(history):\n",
    "    print(\"based on average year-on-year growth, intrinsic value is: {}\".format(get_DCF_value(history)))\n",
    "    try:\n",
    "        print(\"based on CAGR, intrinsic value is: {}\".format(get_cagr_DCF_value(history)))\n",
    "    except ValueError: \n",
    "        print(\"CAGR growth calculation impossible as first year is negative value\")"
   ]
  },
  {
   "cell_type": "code",
   "execution_count": 78,
   "id": "190f3e47",
   "metadata": {},
   "outputs": [],
   "source": [
    "def perpetual_growth_valuation(history):\n",
    "    growth_history = []\n",
    "    \n",
    "    #calculate the growth between each year. add to the list\n",
    "    for i in range(0,(len(history)-1)):\n",
    "        growth = (history[i] - history[i+1]) / abs(history[i+1])    \n",
    "        growth_history.append(growth)\n",
    "\n",
    "    #get the minimum growth\n",
    "    min_growth_rate = 1 + min(growth_history)\n",
    "\n",
    "    #bring to current year and then project for next year. assuming we missed this year's payment\n",
    "    next_payment = history[0] * min_growth_rate * min_growth_rate \n",
    "\n",
    "    #apply formula\n",
    "    valuation = next_payment / (wacc - min_growth_rate)\n",
    "    return valuation"
   ]
  },
  {
   "cell_type": "code",
   "execution_count": 79,
   "id": "b800dfa2",
   "metadata": {},
   "outputs": [],
   "source": [
    "def plot_value(name, function, history, color):\n",
    "    try:\n",
    "        plt.barh([name], function(history), color=color)\n",
    "    except ValueError: \n",
    "        pass"
   ]
  },
  {
   "cell_type": "markdown",
   "id": "0ada79d4",
   "metadata": {},
   "source": [
    "# Download fundementals"
   ]
  },
  {
   "cell_type": "code",
   "execution_count": 80,
   "id": "e9b23b55",
   "metadata": {},
   "outputs": [],
   "source": [
    "shares = ticker.info[\"sharesOutstanding\"]\n",
    "market_cap = ticker.info[\"marketCap\"]\n",
    "beta = ticker.info[\"beta\"]\n",
    "current_price = ticker.info['regularMarketPrice']\n",
    "book_value = ticker.info[\"bookValue\"]"
   ]
  },
  {
   "cell_type": "code",
   "execution_count": null,
   "id": "51743161",
   "metadata": {},
   "outputs": [],
   "source": []
  },
  {
   "cell_type": "markdown",
   "id": "b3af3b48",
   "metadata": {},
   "source": [
    "# download and clean statements"
   ]
  },
  {
   "cell_type": "code",
   "execution_count": 81,
   "id": "3cad70d4",
   "metadata": {},
   "outputs": [],
   "source": [
    "## income statement \n",
    "IS = ticker.financials\n",
    "IS = clean_dataframe(IS)\n",
    "\n",
    "## balance sheet\n",
    "BS = ticker.balance_sheet\n",
    "BS = clean_dataframe(BS)\n",
    "\n",
    "## cashflow statement\n",
    "CF = ticker.cashflow\n",
    "CF = clean_dataframe(CF)\n",
    "\n",
    "## combined  dataset\n",
    "df = pd.merge(IS, BS, on=\"year\")\n",
    "df = df.merge(CF, on= \"year\")\n",
    "df[\"year\"] = df['year'].astype(str)"
   ]
  },
  {
   "cell_type": "code",
   "execution_count": 82,
   "id": "ec1991fe",
   "metadata": {},
   "outputs": [],
   "source": [
    "#create total debt column\n",
    "debt_types = [\"Short Long Term Debt\",\"Long Term Debt\"] \n",
    "df[\"total_debt\"] = 0\n",
    "\n",
    "for i in debt_types:\n",
    "    if (i in df.columns) == True:\n",
    "        df[\"total_debt\"]  += df[i]"
   ]
  },
  {
   "cell_type": "code",
   "execution_count": 83,
   "id": "5c807b1c",
   "metadata": {},
   "outputs": [],
   "source": [
    "#free cash flow\n",
    "df[\"FCF\"]= df['Operating Cash Flow'] + df['Capital Expenditure']\n",
    "\n",
    "#Return on Equity\n",
    "df[\"ROE\"] = df[\"Net Income\"] / df[\"Stockholders Equity\"]\n",
    "\n",
    "#current ratio\n",
    "df['current_ratio'] = df['Current Assets'] / df['Current Liabilities']\n",
    "\n",
    "#debt_to_equity\n",
    "df[\"debt_to_equity\"] = df[\"total_debt\"] / df['Stockholders Equity']"
   ]
  },
  {
   "cell_type": "markdown",
   "id": "b239b4a5",
   "metadata": {},
   "source": [
    "# Charts "
   ]
  },
  {
   "cell_type": "code",
   "execution_count": 84,
   "id": "7d8f818f",
   "metadata": {},
   "outputs": [
    {
     "data": {
      "text/plain": [
       "['2019', '2020', '2021']"
      ]
     },
     "execution_count": 84,
     "metadata": {},
     "output_type": "execute_result"
    }
   ],
   "source": [
    "axis = list(df[\"year\"])\n",
    "axis = sorted(axis)\n",
    "axis"
   ]
  },
  {
   "cell_type": "markdown",
   "id": "bc38e13e",
   "metadata": {},
   "source": [
    "## cashflows"
   ]
  },
  {
   "cell_type": "code",
   "execution_count": 85,
   "id": "a1b359da",
   "metadata": {},
   "outputs": [
    {
     "data": {
      "image/png": "[encoded data removed]",
      "text/plain": [
       "<Figure size 1440x864 with 6 Axes>"
      ]
     },
     "metadata": {},
     "output_type": "display_data"
    }
   ],
   "source": [
    "fig, axes = plt.subplots(2, 3,figsize=(20,12))\n",
    "\n",
    "\n",
    "cashflow_df = df[[\"year\",\"Operating Cash Flow\",\"Investing Cash Flow\", \"Financing Cash Flow\"]]\n",
    "cashflow_df = cashflow_df.melt(id_vars=\"year\",var_name=\"cashflow\",value_name=\"amount\")\n",
    "sns.barplot(x= \"year\", y=\"amount\", data= cashflow_df, hue = \"cashflow\", palette = [\"orange\", \"blue\", \"red\"], order=axis, ax=axes[0,0])\n",
    "axes[0,0].set(title=\"Cashflows\")\n",
    "\n",
    "fcf_df = df[[\"year\",\"FCF\", \"total_debt\"]]\n",
    "fcf_df = fcf_df.melt(id_vars=\"year\",var_name=\"cashflow\",value_name=\"amount\")\n",
    "sns.barplot(x= \"year\", y=\"amount\", data=fcf_df, hue = \"cashflow\", palette = [\"green\", \"red\"], order=axis, ax=axes[0,1])\n",
    "axes[0,1].set(title=\"Free CF vs Debt\")\n",
    "\n",
    "cashflow_income= df[[\"year\",\"Operating Cash Flow\",'Net Income']]\n",
    "cashflow_income = cashflow_income.melt(id_vars=\"year\",var_name=\"source\",value_name=\"amount\")\n",
    "sns.barplot(x=\"year\", y=\"amount\", data=cashflow_income, hue = \"source\", palette = [\"orange\", \"tan\"], order=axis,ax=axes[0,2])\n",
    "axes[0,2].set(title=\"Operating CF vs Net Income\")\n",
    "\n",
    "\n",
    "#dividends already adjusted for stock split according to yahoo finance\n",
    "dividend_history = ticker.actions\n",
    "dividend_history = dividend_history.rename_axis('year').reset_index()\n",
    "dividend_history[\"year\"] = pd.DatetimeIndex(dividend_history[\"year\"]).year\n",
    "dividend_history = dividend_history[dividend_history[\"Stock Splits\"]==0]\n",
    "dividend_history = dividend_history[[\"year\", \"Dividends\"]]\n",
    "dividend_history = dividend_history.groupby(\"year\").sum()\n",
    "\n",
    "if len(dividend_history)>0:\n",
    "    sns.barplot(x = \"year\", y= \"Dividends\", data=dividend_history.reset_index(), color = \"skyblue\", ax=axes[1,0])\n",
    "    axes[1,0].tick_params(axis='x', rotation=45)\n",
    "    axes[1,0].set(title=\"Dividends\")\n",
    "else:\n",
    "    sns.barplot(x = axis, y=[0] * len(axis) ,color = \"skyblue\", ax=axes[1,0])\n",
    "    axes[1,0].tick_params(axis='x', rotation=45)   \n",
    "    axes[1,0].set(title=\"Dividends\")\n",
    "    \n",
    "# #to add FCF/Debt in 2nd graph\n",
    "\n",
    "# # add revenue vs gross profit vs net income"
   ]
  },
  {
   "cell_type": "markdown",
   "id": "e23dd7a6",
   "metadata": {},
   "source": [
    "## balancesheet"
   ]
  },
  {
   "cell_type": "code",
   "execution_count": 86,
   "id": "37ad757a",
   "metadata": {
    "scrolled": false
   },
   "outputs": [
    {
     "data": {
      "text/plain": [
       "[Text(0.5, 1.0, 'Current Ratio and Debt to Equity')]"
      ]
     },
     "execution_count": 86,
     "metadata": {},
     "output_type": "execute_result"
    },
    {
     "data": {
      "image/png": "[encoded data removed]",
      "text/plain": [
       "<Figure size 1440x864 with 6 Axes>"
      ]
     },
     "metadata": {},
     "output_type": "display_data"
    }
   ],
   "source": [
    "fig2, axes = plt.subplots(2, 3,figsize=(20,12))\n",
    "\n",
    "balancesheet_prop= df[[\"year\",'Cash And Cash Equivalents', \"total_debt\", 'Total Assets']]\n",
    "balancesheet_prop = balancesheet_prop.melt(id_vars=\"year\",var_name=\"source\",value_name=\"amount\")\n",
    "sns.barplot(x =\"year\",y= \"amount\", data=balancesheet_prop, hue = \"source\", palette = [\"green\", \"red\", 'black', \"black\"], order=axis,ax=axes[0,0])\n",
    "axes[0,0].set(title=\"Cash, Debt and Total Asset\")\n",
    "\n",
    "balancesheet_df = BS[[\"year\",'Stockholders Equity','Current Liabilities','Total Liabilities Net Minority Interest']]\n",
    "balancesheet_df[\"Total_long term_liab\"] = balancesheet_df[\"Total Liabilities Net Minority Interest\"] - balancesheet_df[\"Current Liabilities\"] \n",
    "balancesheet_df.drop(\"Total Liabilities Net Minority Interest\",axis=\"columns\", inplace =True)\n",
    "balancesheet_df = balancesheet_df.set_index(\"year\").sort_index()\n",
    "balancesheet_df = balancesheet_df.div(balancesheet_df.sum(axis=1), axis=0)\n",
    "balancesheet_df.plot(kind='bar', stacked=True, color=['blue', 'brown', 'red'], ax=axes[0,1])\n",
    "axes[0,1].set(title=\"Balancesheet Proportion\")\n",
    "\n",
    "sns.lineplot(x=df[\"year\"], y= df[\"ROE\"], ax=axes[0,2])\n",
    "axes[0,2].invert_xaxis()\n",
    "axes[0,2].set(title=\"ROE\")\n",
    "\n",
    "bs_ratio_df = df[[\"year\",\"current_ratio\", \"debt_to_equity\"]]\n",
    "bs_ratio_df = bs_ratio_df.melt(id_vars=\"year\",var_name=\"ratio\",value_name=\"amount\")\n",
    "sns.lineplot(x= bs_ratio_df[\"year\"], y= bs_ratio_df[\"amount\"],hue=bs_ratio_df[\"ratio\"], palette=[\"blue\", \"red\"], ax=axes[1,0])\n",
    "sns.lineplot(x= bs_ratio_df[\"year\"], y=1, color = \"black\", linestyle=\"--\", ax=axes[1,0])\n",
    "axes[1,0].invert_xaxis()\n",
    "axes[1,0].set(title=\"Current Ratio and Debt to Equity\")"
   ]
  },
  {
   "cell_type": "markdown",
   "id": "3e10a6b6",
   "metadata": {},
   "source": [
    "# WACC calculations"
   ]
  },
  {
   "cell_type": "markdown",
   "id": "4068f00f",
   "metadata": {},
   "source": [
    "## Extract lates year data"
   ]
  },
  {
   "cell_type": "code",
   "execution_count": 87,
   "id": "05aa115d",
   "metadata": {},
   "outputs": [],
   "source": [
    "latest_year = df.iloc[0]"
   ]
  },
  {
   "cell_type": "markdown",
   "id": "f478bd35",
   "metadata": {},
   "source": [
    "## debt section "
   ]
  },
  {
   "cell_type": "code",
   "execution_count": 88,
   "id": "3f3124f1",
   "metadata": {},
   "outputs": [],
   "source": [
    "debt = latest_year[\"total_debt\"]\n",
    "\n",
    "total_wacc_value = debt + market_cap\n",
    "total_wacc_value\n",
    "\n",
    "debt_weight = debt/total_wacc_value\n",
    "\n",
    "if abs(latest_year['Interest Expense Non Operating']) != 0 and debt!=0:\n",
    "    debt_cost = abs(latest_year['Interest Expense Non Operating']) / debt\n",
    "elif abs(latest_year['Interest Expense Non Operating']) == 0 and debt==0:\n",
    "    debt_cost = 0\n",
    "elif abs(latest_year['Interest Expense Non Operating']) != 0 and debt==0:\n",
    "    debt_cost = 0\n",
    "else:\n",
    "    debt_cost = 0\n",
    "\n",
    "tax_rate = latest_year['Tax Provision'] / latest_year['Pretax Income']"
   ]
  },
  {
   "cell_type": "code",
   "execution_count": 89,
   "id": "d72f9ca4",
   "metadata": {},
   "outputs": [
    {
     "data": {
      "text/plain": [
       "21675389072.0"
      ]
     },
     "execution_count": 89,
     "metadata": {},
     "output_type": "execute_result"
    }
   ],
   "source": [
    "total_wacc_value"
   ]
  },
  {
   "cell_type": "markdown",
   "id": "58a3c283",
   "metadata": {},
   "source": [
    "## equity section"
   ]
  },
  {
   "cell_type": "code",
   "execution_count": 90,
   "id": "bb9f6a85",
   "metadata": {},
   "outputs": [
    {
     "data": {
      "text/plain": [
       "1.02013"
      ]
     },
     "execution_count": 90,
     "metadata": {},
     "output_type": "execute_result"
    }
   ],
   "source": [
    "if beta == None:\n",
    "    beta = 1\n",
    "beta"
   ]
  },
  {
   "cell_type": "code",
   "execution_count": 91,
   "id": "40978872",
   "metadata": {},
   "outputs": [
    {
     "data": {
      "text/plain": [
       "0.101405074"
      ]
     },
     "execution_count": 91,
     "metadata": {},
     "output_type": "execute_result"
    }
   ],
   "source": [
    "equity_weight =  market_cap/total_wacc_value\n",
    "\n",
    "equity_cost = risk_free_rate +  beta*(market_return_rate-risk_free_rate)\n",
    "equity_cost"
   ]
  },
  {
   "cell_type": "markdown",
   "id": "e8c649e4",
   "metadata": {},
   "source": [
    "## WACC"
   ]
  },
  {
   "cell_type": "code",
   "execution_count": 92,
   "id": "7036dc40",
   "metadata": {},
   "outputs": [
    {
     "data": {
      "text/plain": [
       "1.09905794355201"
      ]
     },
     "execution_count": 92,
     "metadata": {},
     "output_type": "execute_result"
    }
   ],
   "source": [
    "wacc = ((equity_weight * equity_cost) + (debt_weight * debt_cost * (1-tax_rate))) + 1\n",
    "wacc"
   ]
  },
  {
   "cell_type": "markdown",
   "id": "213d0744",
   "metadata": {},
   "source": [
    "# Discounted Growth Model"
   ]
  },
  {
   "cell_type": "markdown",
   "id": "986763ff",
   "metadata": {},
   "source": [
    "## a) Cashflow"
   ]
  },
  {
   "cell_type": "code",
   "execution_count": 93,
   "id": "a2a8b994",
   "metadata": {},
   "outputs": [
    {
     "name": "stdout",
     "output_type": "stream",
     "text": [
      "based on average year-on-year growth, intrinsic value is: 328.87445842598265\n",
      "based on CAGR, intrinsic value is: 295.893707396367\n"
     ]
    }
   ],
   "source": [
    "# averge growth rate\n",
    "ocf_history = list(df['Operating Cash Flow'])\n",
    "DCF_valuation_report(ocf_history)"
   ]
  },
  {
   "cell_type": "markdown",
   "id": "1823a090",
   "metadata": {},
   "source": [
    "## b) Income"
   ]
  },
  {
   "cell_type": "code",
   "execution_count": 94,
   "id": "45754730",
   "metadata": {},
   "outputs": [
    {
     "name": "stdout",
     "output_type": "stream",
     "text": [
      "based on average year-on-year growth, intrinsic value is: -0.21732024699400812\n",
      "based on CAGR, intrinsic value is: -0.7664885992090803\n"
     ]
    }
   ],
   "source": [
    "ic_history = list(df['Net Income Common Stockholders'])\n",
    "DCF_valuation_report(ic_history)"
   ]
  },
  {
   "cell_type": "markdown",
   "id": "3c74c5c8",
   "metadata": {},
   "source": [
    "## c) Free Cash Flow"
   ]
  },
  {
   "cell_type": "code",
   "execution_count": 95,
   "id": "057f34f0",
   "metadata": {},
   "outputs": [
    {
     "name": "stdout",
     "output_type": "stream",
     "text": [
      "based on average year-on-year growth, intrinsic value is: 966535.544795518\n",
      "based on CAGR, intrinsic value is: 34564.57989466167\n"
     ]
    }
   ],
   "source": [
    "fcf_history = list(df[\"FCF\"])\n",
    "DCF_valuation_report(fcf_history)"
   ]
  },
  {
   "cell_type": "markdown",
   "id": "20ad86bc",
   "metadata": {},
   "source": [
    "# Dividend Discount Model "
   ]
  },
  {
   "cell_type": "markdown",
   "id": "efa9b218",
   "metadata": {},
   "source": [
    "## a) perpetual dividend growth "
   ]
  },
  {
   "cell_type": "code",
   "execution_count": 96,
   "id": "18658cf4",
   "metadata": {},
   "outputs": [],
   "source": [
    "#get the only completed years with all dividends paid out. Company with fiscal year at the start of year still haven't \n",
    "#completed dividend pay out for the year\n",
    "dividend_year = []\n",
    "if axis[-1] == current_year:\n",
    "    for i in range(0, len(axis)): \n",
    "        dividend_year.append(int(axis[i])-1)\n",
    "        print(dividend_year[i])\n",
    "else: \n",
    "    dividend_year = [int(year) for year in axis]"
   ]
  },
  {
   "cell_type": "code",
   "execution_count": 97,
   "id": "2544b6b8",
   "metadata": {},
   "outputs": [
    {
     "name": "stdout",
     "output_type": "stream",
     "text": [
      "past 4 complete yearly dividend payout are:  Empty DataFrame\n",
      "Columns: [Dividends]\n",
      "Index: []\n",
      "DDM valuations is:  0\n"
     ]
    }
   ],
   "source": [
    "if len(dividend_history)>0:\n",
    "    #filter the last 4 years of dividends payment\n",
    "    dividend_history = dividend_history[dividend_history.index.isin(dividend_year)]\n",
    "    dividend_history = dividend_history.sort_index(ascending=False)\n",
    "    dividend_history = list(dividend_history[\"Dividends\"])\n",
    "    DDM_valuation = perpetual_growth_valuation(dividend_history)\n",
    "else: \n",
    "    DDM_valuation = 0\n",
    " \n",
    "print(\"past 4 complete yearly dividend payout are: \", dividend_history)\n",
    "print(\"DDM valuations is: \", DDM_valuation)"
   ]
  },
  {
   "cell_type": "markdown",
   "id": "467b63ee",
   "metadata": {},
   "source": [
    "### b) perpetual FCF growth"
   ]
  },
  {
   "cell_type": "code",
   "execution_count": 98,
   "id": "b16a4669",
   "metadata": {},
   "outputs": [
    {
     "name": "stdout",
     "output_type": "stream",
     "text": [
      "Assuming perpetual FCF growth at last 3 years' rate. Valuation is: -4.067408449132428\n"
     ]
    }
   ],
   "source": [
    "PFCF_valuation = perpetual_growth_valuation(fcf_history)/shares\n",
    "print(\"Assuming perpetual FCF growth at last 3 years' rate. Valuation is: {}\".format(PFCF_valuation))"
   ]
  },
  {
   "cell_type": "markdown",
   "id": "206879e1",
   "metadata": {},
   "source": [
    "# Valuation Comparison"
   ]
  },
  {
   "cell_type": "code",
   "execution_count": 102,
   "id": "4c4a791e",
   "metadata": {},
   "outputs": [
    {
     "data": {
      "text/plain": [
       "<BarContainer object of 1 artists>"
      ]
     },
     "execution_count": 102,
     "metadata": {},
     "output_type": "execute_result"
    },
    {
     "data": {
      "image/png": "[encoded data removed]",
      "text/plain": [
       "<Figure size 864x216 with 1 Axes>"
      ]
     },
     "metadata": {},
     "output_type": "display_data"
    }
   ],
   "source": [
    "ax = plt.figure(figsize=(12, 3))\n",
    "\n",
    "plt.barh(\"book value\", book_value, color=\"grey\")\n",
    "\n",
    "plt.barh(\"Perpetual FCF Growth\", PFCF_valuation, color=\"green\")\n",
    "plt.barh(\"Dividend Discount Model\", DDM_valuation, color=\"skyblue\")\n",
    "\n",
    "plot_value(\"FCF Average Growth DCF\", get_DCF_value, fcf_history, \"green\")\n",
    "plot_value(\"FCF CAGR DCF\", get_cagr_DCF_value, fcf_history, \"green\")\n",
    "\n",
    "plot_value(\"Income Average Growth DCF\", get_DCF_value,ic_history, \"tan\")\n",
    "plot_value(\"Income CAGR DCF\", get_cagr_DCF_value,ic_history, \"tan\")\n",
    "\n",
    "plot_value(\"Cashflow Average Growth DCF\", get_DCF_value,ocf_history, \"orange\")\n",
    "plot_value(\"Cashflow CAGR DCF\", get_cagr_DCF_value,ocf_history, \"orange\")\n",
    "\n",
    "plt.barh(\"current price\", current_price, color=\"black\")"
   ]
  },
  {
   "cell_type": "markdown",
   "id": "1c60a04d",
   "metadata": {},
   "source": [
    "# Analyst's recommendations"
   ]
  },
  {
   "cell_type": "code",
   "execution_count": null,
   "id": "d1a13c1b",
   "metadata": {},
   "outputs": [],
   "source": [
    "ticker.recommendations[\"To Grade\"]\\\n",
    "    .value_counts()\\\n",
    "    .head(8)\\\n",
    "    .plot(kind=\"barh\")"
   ]
  },
  {
   "cell_type": "markdown",
   "id": "4ee919d7",
   "metadata": {},
   "source": [
    "# Other Matrices"
   ]
  },
  {
   "cell_type": "code",
   "execution_count": null,
   "id": "412b9ba8",
   "metadata": {},
   "outputs": [],
   "source": [
    "PE_ratio = ticker.info[\"trailingPE\"]\n",
    "PE_ratio"
   ]
  },
  {
   "cell_type": "code",
   "execution_count": null,
   "id": "0bc35962",
   "metadata": {},
   "outputs": [],
   "source": [
    "ticker.info[\"trailingPegRatio\"]"
   ]
  },
  {
   "cell_type": "code",
   "execution_count": null,
   "id": "8934fa8a",
   "metadata": {},
   "outputs": [],
   "source": [
    "ticker.info[\"payoutRatio\"]"
   ]
  },
  {
   "cell_type": "markdown",
   "id": "690aeb01",
   "metadata": {},
   "source": [
    "# Development area"
   ]
  },
  {
   "cell_type": "markdown",
   "id": "f6f9b547",
   "metadata": {},
   "source": [
    "## cashflows"
   ]
  },
  {
   "cell_type": "code",
   "execution_count": null,
   "id": "cc29da4e",
   "metadata": {},
   "outputs": [],
   "source": [
    "# axis = list(df[\"year\"])\n",
    "# axis = sorted(axis)\n",
    "# axis"
   ]
  },
  {
   "cell_type": "code",
   "execution_count": null,
   "id": "028c4ab4",
   "metadata": {},
   "outputs": [],
   "source": [
    "# cashflow_df = df[[\"year\",\"Total Cash From Operating Activities\",\"Total Cashflows From Investing Activities\", \"Total Cash From Financing Activities\"]]\n",
    "# cashflow_df = cashflow_df.melt(id_vars=\"year\",var_name=\"cashflow\",value_name=\"amount\")\n",
    "# sns.barplot(\"year\", \"amount\", data=cashflow_df, hue = \"cashflow\", palette = [\"orange\", \"blue\", \"red\"], order=axis)"
   ]
  },
  {
   "cell_type": "code",
   "execution_count": null,
   "id": "6ed1832a",
   "metadata": {},
   "outputs": [],
   "source": [
    "# fcf_df = df[[\"year\",\"FCF\", \"total_debt\"]]\n",
    "# fcf_df = fcf_df.melt(id_vars=\"year\",var_name=\"cashflow\",value_name=\"amount\")\n",
    "# sns.barplot(\"year\", \"amount\", data=fcf_df, hue = \"cashflow\", palette = [\"green\", \"red\"], order=axis)"
   ]
  },
  {
   "cell_type": "code",
   "execution_count": null,
   "id": "3c811039",
   "metadata": {},
   "outputs": [],
   "source": [
    "# cashflow_income= df[[\"year\",\"Total Cash From Operating Activities\",'Net Income Applicable To Common Shares']]\n",
    "# cashflow_income = cashflow_income.melt(id_vars=\"year\",var_name=\"source\",value_name=\"amount\")\n",
    "# sns.barplot(\"year\", \"amount\", data=cashflow_income, hue = \"source\", palette = [\"orange\", \"tan\"], order=axis)"
   ]
  },
  {
   "cell_type": "markdown",
   "id": "3ae576ad",
   "metadata": {},
   "source": [
    "## balance sheet"
   ]
  },
  {
   "cell_type": "code",
   "execution_count": null,
   "id": "c32f871d",
   "metadata": {},
   "outputs": [],
   "source": [
    "# balancesheet_prop= df[[\"year\",'Cash', \"total_debt\", 'Total Assets']]\n",
    "# balancesheet_prop = balancesheet_prop.melt(id_vars=\"year\",var_name=\"source\",value_name=\"amount\")\n",
    "# sns.barplot(\"year\", \"amount\", data=balancesheet_prop, hue = \"source\", palette = [\"green\", \"red\", 'black', \"black\"], order=axis)"
   ]
  },
  {
   "cell_type": "code",
   "execution_count": null,
   "id": "8f5f06ef",
   "metadata": {},
   "outputs": [],
   "source": [
    "# balancesheet_df = BS[[\"year\",'Total Stockholder Equity','Total Current Liabilities','Total Liab']]\n",
    "# balancesheet_df[\"Total_long term_liab\"] = balancesheet_df[\"Total Liab\"] - balancesheet_df[\"Total Current Liabilities\"] \n",
    "# balancesheet_df.drop(\"Total Liab\",axis=\"columns\", inplace =True)\n",
    "# balancesheet_df = balancesheet_df.set_index(\"year\").sort_index()\n",
    "# balancesheet_df = balancesheet_df.div(balancesheet_df.sum(axis=1), axis=0)\n",
    "# balancesheet_df.plot(kind='bar', stacked=True, color=['blue', 'brown', 'red'])"
   ]
  },
  {
   "cell_type": "code",
   "execution_count": null,
   "id": "84b2c52e",
   "metadata": {
    "scrolled": true
   },
   "outputs": [],
   "source": [
    "# ax = sns.lineplot(df[\"year\"], df[\"ROE\"])\n",
    "# ax.invert_xaxis()\n",
    "# ax.set(title=\"ROE\")\n",
    "# ax.legend()"
   ]
  },
  {
   "cell_type": "code",
   "execution_count": null,
   "id": "a371a017",
   "metadata": {},
   "outputs": [],
   "source": [
    "# bs_ratio_df = df[[\"year\",\"current_ratio\", \"debt_to_equity\"]]\n",
    "# bs_ratio_df = bs_ratio_df.melt(id_vars=\"year\",var_name=\"ratio\",value_name=\"amount\")\n",
    "# ax = sns.lineplot(bs_ratio_df[\"year\"], bs_ratio_df[\"amount\"],hue=bs_ratio_df[\"ratio\"], palette=[\"blue\", \"red\"])\n",
    "# ax = sns.lineplot(bs_ratio_df[\"year\"], 1, color = \"black\", linestyle=\"--\")\n",
    "# ax.invert_xaxis()\n",
    "# ax.legend()"
   ]
  },
  {
   "cell_type": "code",
   "execution_count": null,
   "id": "45b54605",
   "metadata": {},
   "outputs": [],
   "source": [
    "ticker.info.keys()"
   ]
  },
  {
   "cell_type": "code",
   "execution_count": null,
   "id": "c1daf4e8",
   "metadata": {},
   "outputs": [],
   "source": []
  },
  {
   "cell_type": "code",
   "execution_count": null,
   "id": "0b418ffc",
   "metadata": {},
   "outputs": [],
   "source": []
  }
 ],
 "metadata": {
  "kernelspec": {
   "display_name": "Python 3",
   "language": "python",
   "name": "python3"
  },
  "language_info": {
   "codemirror_mode": {
    "name": "ipython",
    "version": 3
   },
   "file_extension": ".py",
   "mimetype": "text/x-python",
   "name": "python",
   "nbconvert_exporter": "python",
   "pygments_lexer": "ipython3",
   "version": "3.8.8"
  }
 },
 "nbformat": 4,
 "nbformat_minor": 5
}
