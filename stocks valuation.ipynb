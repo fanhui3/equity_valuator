{
 "cells": [
  {
   "cell_type": "code",
   "execution_count": 1,
   "id": "1312a0b4",
   "metadata": {},
   "outputs": [],
   "source": [
    "import yfinance as yf\n",
    "import pandas as pd\n",
    "import datetime\n",
    "from statistics import mean\n",
    "import matplotlib.pyplot as plt #pyplot package under the matplotlib package\n",
    "import seaborn as sns\n",
    "import math\n",
    "\n",
    "plt.style.use(\"ggplot\")\n",
    " \n",
    "\n",
    "import warnings\n",
    "warnings.simplefilter(action='ignore', category=FutureWarning)\n",
    "pd.options.mode.chained_assignment = None  # default='warn'"
   ]
  },
  {
   "cell_type": "code",
   "execution_count": 491,
   "id": "afec5190",
   "metadata": {},
   "outputs": [],
   "source": [
    "ticker = yf.Ticker(\"0700.hk\")"
   ]
  },
  {
   "cell_type": "code",
   "execution_count": 492,
   "id": "c113a8f3",
   "metadata": {},
   "outputs": [
    {
     "data": {
      "text/plain": [
       "\"Tencent Holdings Limited, an investment holding company, provides value-added services (VAS) and Online advertising services in Mainland China and internationally. The company operates through VAS, Online Advertising, FinTech and Business Services, and Others segments. It offers online games and social network services; FinTech and cloud services, and online advertising services. The company is also involved in the production, investment, and distribution of films and television programs for third parties, as well as copyrights licensing, merchandise sales, and other activities. n addition, it develops software; develops and operates online games; and provides information technology, information system integration, asset management, online literature, and online music entertainment services. Tencent Holdings Limited company was founded in 1998 and is headquartered in Shenzhen, the People's Republic of China.\""
      ]
     },
     "execution_count": 492,
     "metadata": {},
     "output_type": "execute_result"
    }
   ],
   "source": [
    "ticker.info[\"longBusinessSummary\"]\n",
    "# ticker.info[\"logo_url\"]"
   ]
  },
  {
   "cell_type": "markdown",
   "id": "1bd4267f",
   "metadata": {},
   "source": [
    "# set user input parameters"
   ]
  },
  {
   "cell_type": "code",
   "execution_count": 493,
   "id": "8b57ce42",
   "metadata": {},
   "outputs": [],
   "source": [
    "risk_free_rate = 0.0302"
   ]
  },
  {
   "cell_type": "code",
   "execution_count": 494,
   "id": "5c308521",
   "metadata": {},
   "outputs": [],
   "source": [
    "market_return_rate = 0.1"
   ]
  },
  {
   "cell_type": "code",
   "execution_count": 495,
   "id": "0e8a2b0b",
   "metadata": {},
   "outputs": [],
   "source": [
    "cap_growth = 1.15"
   ]
  },
  {
   "cell_type": "code",
   "execution_count": 496,
   "id": "edc44b33",
   "metadata": {},
   "outputs": [],
   "source": [
    "current_year = \"2022\""
   ]
  },
  {
   "cell_type": "markdown",
   "id": "e12337e9",
   "metadata": {},
   "source": [
    "# Custom functions "
   ]
  },
  {
   "cell_type": "code",
   "execution_count": 497,
   "id": "50d02486",
   "metadata": {},
   "outputs": [],
   "source": [
    "def clean_dataframe(frame):\n",
    "    frame = frame.T.rename_axis('year').reset_index()\n",
    "    frame[\"year\"] = pd.DatetimeIndex(frame[\"year\"]).year\n",
    "    frame = frame.sort_values(by=['year'], ascending=False)\n",
    "    frame.fillna(0, inplace=True)\n",
    "    return frame"
   ]
  },
  {
   "cell_type": "code",
   "execution_count": 498,
   "id": "abc88bca",
   "metadata": {},
   "outputs": [],
   "source": [
    "def get_DCF_value(history):\n",
    "    #create empty growth list\n",
    "    growth_history = []\n",
    "    \n",
    "    #calculate the growth between each year. add to the list\n",
    "    for i in range(0,(len(ocf_history)-1)):\n",
    "        growth = (history[i] - history[i+1]) / abs(history[i+1])    \n",
    "        growth_history.append(growth)\n",
    "    \n",
    "    #get the average growth\n",
    "    average_growth_rate = 1 + mean(growth_history)\n",
    "    \n",
    "    #for year 4-10, if average growth in year 1-3 is more than 15%, cap it at 15%\n",
    "    if average_growth_rate > cap_growth: \n",
    "        average_growth_rate_cap = cap_growth\n",
    "    else: \n",
    "        average_growth_rate_cap = average_growth_rate\n",
    "        \n",
    "    #project future cash flow (loop properly)\n",
    "    future_value = []\n",
    "    start_value = history[0]\n",
    "    for i in range(1, 11):\n",
    "        #for year 1 - 3, grow by average growth rate\n",
    "        if i <= 3:\n",
    "            value =  start_value * average_growth_rate\n",
    "            future_value.append(value)\n",
    "            start_value = value\n",
    "        #for year 4-10, grow by cap growth rate\n",
    "        elif i > 3:\n",
    "            value =  start_value * average_growth_rate_cap\n",
    "            future_value.append(value)\n",
    "            start_value = value\n",
    "\n",
    "    # convert future values into present value and sum them\n",
    "    present_value = 0 \n",
    "\n",
    "    for i in range(0, len(future_value)):\n",
    "        value = future_value[i] / pow(wacc, (i+1))\n",
    "        present_value += value\n",
    "    \n",
    "    #calculate present value per share\n",
    "    fair_value = present_value/shares\n",
    "    \n",
    "    return fair_value"
   ]
  },
  {
   "cell_type": "code",
   "execution_count": 499,
   "id": "82eddf16",
   "metadata": {},
   "outputs": [],
   "source": [
    "def get_cagr_DCF_value(history):\n",
    "    #calculate CAGR\n",
    "    base = history[0] / history[-1]\n",
    "    power = 1/(len(history)-1)\n",
    "    average_growth_rate = math.pow(base, power)\n",
    "\n",
    " #for year 4-10, if average growth in year 1-3 is more than 15%, cap it at 15%\n",
    "    if average_growth_rate > cap_growth: \n",
    "        average_growth_rate_cap = cap_growth\n",
    "    else: \n",
    "        average_growth_rate_cap = average_growth_rate\n",
    "        \n",
    "    #project future cash flow (loop properly)\n",
    "    future_value = []\n",
    "    start_value = history[0]\n",
    "    for i in range(1, 11):\n",
    "        #for year 1 - 3, grow by average growth rate\n",
    "        if i <= 3:\n",
    "            value =  start_value * average_growth_rate\n",
    "            future_value.append(value)\n",
    "            start_value = value\n",
    "        #for year 4-10, grow by cap growth rate\n",
    "        elif i > 3:\n",
    "            value =  start_value * average_growth_rate_cap\n",
    "            future_value.append(value)\n",
    "            start_value = value\n",
    "\n",
    "    # convert future values into present value and sum them\n",
    "    present_value = 0 \n",
    "\n",
    "    for i in range(0, len(future_value)):\n",
    "        value = future_value[i] / pow(wacc, (i+1))\n",
    "        present_value += value\n",
    "    \n",
    "    #calculate present value per share\n",
    "    fair_value = present_value/shares\n",
    "    \n",
    "    return fair_value"
   ]
  },
  {
   "cell_type": "code",
   "execution_count": 500,
   "id": "d60c041c",
   "metadata": {},
   "outputs": [],
   "source": [
    "def DCF_valuation_report(history):\n",
    "    print(\"based on average year-on-year growth, intrinsic value is: {}\".format(get_DCF_value(history)))\n",
    "    try:\n",
    "        print(\"based on CAGR, intrinsic value is: {}\".format(get_cagr_DCF_value(history)))\n",
    "    except ValueError: \n",
    "        print(\"CAGR growth calculation impossible as first year is negative value\")"
   ]
  },
  {
   "cell_type": "code",
   "execution_count": 501,
   "id": "190f3e47",
   "metadata": {},
   "outputs": [],
   "source": [
    "def perpetual_growth_valuation(history):\n",
    "    growth_history = []\n",
    "    \n",
    "    #calculate the growth between each year. add to the list\n",
    "    for i in range(0,(len(history)-1)):\n",
    "        growth = (history[i] - history[i+1]) / abs(history[i+1])    \n",
    "        growth_history.append(growth)\n",
    "\n",
    "    #get the minimum growth\n",
    "    min_growth_rate = 1 + min(growth_history)\n",
    "\n",
    "    #bring to current year and then project for next year. assuming we missed this year's payment\n",
    "    next_payment = history[0] * min_growth_rate * min_growth_rate \n",
    "\n",
    "    #apply formula\n",
    "    valuation = next_payment / (wacc - min_growth_rate)\n",
    "    return valuation"
   ]
  },
  {
   "cell_type": "code",
   "execution_count": 502,
   "id": "b800dfa2",
   "metadata": {},
   "outputs": [],
   "source": [
    "def plot_value(name, function, history, color):\n",
    "    try:\n",
    "        plt.barh([name], function(history), color=color)\n",
    "    except ValueError: \n",
    "        pass"
   ]
  },
  {
   "cell_type": "markdown",
   "id": "0ada79d4",
   "metadata": {},
   "source": [
    "# Download fundementals"
   ]
  },
  {
   "cell_type": "code",
   "execution_count": 503,
   "id": "e9b23b55",
   "metadata": {},
   "outputs": [],
   "source": [
    "shares = ticker.info[\"sharesOutstanding\"]\n",
    "market_cap = ticker.info[\"marketCap\"]\n",
    "beta = ticker.info[\"beta\"]\n",
    "current_price = ticker.info['regularMarketPrice']\n",
    "book_value = ticker.info[\"bookValue\"]"
   ]
  },
  {
   "cell_type": "code",
   "execution_count": null,
   "id": "51743161",
   "metadata": {},
   "outputs": [],
   "source": []
  },
  {
   "cell_type": "markdown",
   "id": "b3af3b48",
   "metadata": {},
   "source": [
    "# download and clean statements"
   ]
  },
  {
   "cell_type": "code",
   "execution_count": 504,
   "id": "3cad70d4",
   "metadata": {},
   "outputs": [],
   "source": [
    "## income statement \n",
    "IS = ticker.financials\n",
    "IS = clean_dataframe(IS)\n",
    "\n",
    "## balance sheet\n",
    "BS = ticker.balance_sheet\n",
    "BS = clean_dataframe(BS)\n",
    "\n",
    "## cashflow statement\n",
    "CF = ticker.cashflow\n",
    "CF = clean_dataframe(CF)\n",
    "\n",
    "## combined  dataset\n",
    "df = pd.merge(IS, BS, on=\"year\")\n",
    "df = df.merge(CF, on= \"year\")\n",
    "df[\"year\"] = df['year'].astype(str)"
   ]
  },
  {
   "cell_type": "code",
   "execution_count": 505,
   "id": "ec1991fe",
   "metadata": {},
   "outputs": [
    {
     "name": "stdout",
     "output_type": "stream",
     "text": [
      "debt for each year is: [323476000000.0, 262464000000.0, 232520000000.0]\n"
     ]
    }
   ],
   "source": [
    "#create total debt column\n",
    "if \"Total Debt\" not in df.columns:\n",
    "    print(\"there is no total debt column. Will have to manually combine short term and long term debt\")\n",
    "    debt_types = [\"Current Debt And Capital Lease Obligation\",\"Long Term Debt And Capital Lease Obligation\"] \n",
    "    df[\"total_debt\"] = 0\n",
    "\n",
    "    for i in debt_types:\n",
    "        if (i in df.columns) == True:\n",
    "            print(i)\n",
    "            df[\"total_debt\"]  += df[i]\n",
    "            \n",
    "else: \n",
    "    df[\"total_debt\"] = df[\"Total Debt\"]\n",
    "    \n",
    "print(\"debt for each year is: {}\".format(list(df[\"total_debt\"])))"
   ]
  },
  {
   "cell_type": "code",
   "execution_count": 506,
   "id": "5c807b1c",
   "metadata": {},
   "outputs": [
    {
     "name": "stdout",
     "output_type": "stream",
     "text": [
      "FCF for each year is: [113021000000.0, 127520000000.0, 91602000000.0]\n",
      "ROE for each year is: [0.27883204617641844, 0.2270605581945044, 0.215642953876304]\n",
      "current_ratio for each year is: [1.2027149725376955, 1.180497177408865, 1.0575126167990807]\n",
      "debt_to_equity for each year is: [0.4011861604690072, 0.37282665515125346, 0.5373625510161634]\n"
     ]
    }
   ],
   "source": [
    "#free cash flow\n",
    "df[\"FCF\"]= df['Operating Cash Flow'] + df['Capital Expenditure']\n",
    "print(\"FCF for each year is: {}\".format(list(df[\"FCF\"])))\n",
    "\n",
    "#Return on Equity\n",
    "df[\"ROE\"] = df[\"Net Income\"] / df[\"Stockholders Equity\"]\n",
    "print(\"ROE for each year is: {}\".format(list(df[\"ROE\"])))\n",
    "\n",
    "#current ratio\n",
    "df['current_ratio'] = df['Current Assets'] / df['Current Liabilities']\n",
    "# df['current_ratio'] = df['Cash Cash Equivalents And Federal Funds Sold'] / df['Payables And Accrued Expenses'] #for finanical company\n",
    "print(\"current_ratio for each year is: {}\".format(list(df[\"current_ratio\"])))\n",
    "\n",
    "#debt_to_equity\n",
    "df[\"debt_to_equity\"] = df[\"total_debt\"] / df['Stockholders Equity']\n",
    "print(\"debt_to_equity for each year is: {}\".format(list(df[\"debt_to_equity\"])))"
   ]
  },
  {
   "cell_type": "markdown",
   "id": "b239b4a5",
   "metadata": {},
   "source": [
    "# Charts "
   ]
  },
  {
   "cell_type": "code",
   "execution_count": 507,
   "id": "7d8f818f",
   "metadata": {},
   "outputs": [
    {
     "data": {
      "text/plain": [
       "['2019', '2020', '2021']"
      ]
     },
     "execution_count": 507,
     "metadata": {},
     "output_type": "execute_result"
    }
   ],
   "source": [
    "axis = list(df[\"year\"])\n",
    "axis = sorted(axis)\n",
    "axis"
   ]
  },
  {
   "cell_type": "markdown",
   "id": "bc38e13e",
   "metadata": {},
   "source": [
    "## cashflows"
   ]
  },
  {
   "cell_type": "code",
   "execution_count": 508,
   "id": "a1b359da",
   "metadata": {},
   "outputs": [
    {
     "data": {
      "image/png": "[encoded data removed]",
      "text/plain": [
       "<Figure size 1440x864 with 6 Axes>"
      ]
     },
     "metadata": {},
     "output_type": "display_data"
    }
   ],
   "source": [
    "fig, axes = plt.subplots(2, 3,figsize=(20,12))\n",
    "\n",
    "\n",
    "cashflow_df = df[[\"year\",\"Operating Cash Flow\",\"Investing Cash Flow\", \"Financing Cash Flow\"]]\n",
    "cashflow_df = cashflow_df.melt(id_vars=\"year\",var_name=\"cashflow\",value_name=\"amount\")\n",
    "sns.barplot(x= \"year\", y=\"amount\", data= cashflow_df, hue = \"cashflow\", palette = [\"orange\", \"blue\", \"red\"], order=axis, ax=axes[0,0])\n",
    "axes[0,0].set(title=\"Cashflows\")\n",
    "\n",
    "fcf_df = df[[\"year\",\"FCF\", \"total_debt\"]]\n",
    "fcf_df = fcf_df.melt(id_vars=\"year\",var_name=\"cashflow\",value_name=\"amount\")\n",
    "sns.barplot(x= \"year\", y=\"amount\", data=fcf_df, hue = \"cashflow\", palette = [\"green\", \"red\"], order=axis, ax=axes[0,1])\n",
    "axes[0,1].set(title=\"Free CF vs Debt\")\n",
    "\n",
    "cashflow_income= df[[\"year\",\"Operating Cash Flow\",'Net Income']]\n",
    "cashflow_income = cashflow_income.melt(id_vars=\"year\",var_name=\"source\",value_name=\"amount\")\n",
    "sns.barplot(x=\"year\", y=\"amount\", data=cashflow_income, hue = \"source\", palette = [\"orange\", \"tan\"], order=axis,ax=axes[0,2])\n",
    "axes[0,2].set(title=\"Operating CF vs Net Income\")\n",
    "\n",
    "\n",
    "#dividends already adjusted for stock split according to yahoo finance\n",
    "dividend_history = ticker.actions\n",
    "dividend_history = dividend_history.rename_axis('year').reset_index()\n",
    "dividend_history[\"year\"] = pd.DatetimeIndex(dividend_history[\"year\"]).year\n",
    "dividend_history = dividend_history[dividend_history[\"Stock Splits\"]==0]\n",
    "dividend_history = dividend_history[[\"year\", \"Dividends\"]]\n",
    "dividend_history = dividend_history.groupby(\"year\").sum()\n",
    "\n",
    "if len(dividend_history)>0:\n",
    "    sns.barplot(x = \"year\", y= \"Dividends\", data=dividend_history.reset_index(), color = \"skyblue\", ax=axes[1,0])\n",
    "    axes[1,0].tick_params(axis='x', rotation=45)\n",
    "    axes[1,0].set(title=\"Dividends\")\n",
    "else:\n",
    "    sns.barplot(x = axis, y=[0] * len(axis) ,color = \"skyblue\", ax=axes[1,0])\n",
    "    axes[1,0].tick_params(axis='x', rotation=45)   \n",
    "    axes[1,0].set(title=\"Dividends\")\n",
    "    \n",
    "# #to add FCF/Debt in 2nd graph\n",
    "\n",
    "# # add revenue vs gross profit vs net income"
   ]
  },
  {
   "cell_type": "markdown",
   "id": "e23dd7a6",
   "metadata": {},
   "source": [
    "## balancesheet"
   ]
  },
  {
   "cell_type": "code",
   "execution_count": 509,
   "id": "098e001e",
   "metadata": {},
   "outputs": [],
   "source": [
    "# BS[[\"Current Liabilities\", 'Payables And Accrued Expenses']]"
   ]
  },
  {
   "cell_type": "code",
   "execution_count": 510,
   "id": "37ad757a",
   "metadata": {
    "scrolled": false
   },
   "outputs": [
    {
     "data": {
      "text/plain": [
       "[Text(0.5, 1.0, 'Current Ratio and Debt to Equity')]"
      ]
     },
     "execution_count": 510,
     "metadata": {},
     "output_type": "execute_result"
    },
    {
     "data": {
      "image/png": "[encoded data removed]",
      "text/plain": [
       "<Figure size 1440x864 with 6 Axes>"
      ]
     },
     "metadata": {},
     "output_type": "display_data"
    }
   ],
   "source": [
    "fig2, axes = plt.subplots(2, 3,figsize=(20,12))\n",
    "\n",
    "balancesheet_prop= df[[\"year\",'Cash And Cash Equivalents', \"total_debt\", 'Total Assets']]\n",
    "balancesheet_prop = balancesheet_prop.melt(id_vars=\"year\",var_name=\"source\",value_name=\"amount\")\n",
    "sns.barplot(x =\"year\",y= \"amount\", data=balancesheet_prop, hue = \"source\", palette = [\"green\", \"red\", 'black', \"black\"], order=axis,ax=axes[0,0])\n",
    "axes[0,0].set(title=\"Cash, Debt and Total Asset\")\n",
    "\n",
    "balancesheet_df = BS[[\"year\",'Stockholders Equity','Current Liabilities','Total Liabilities Net Minority Interest']]\n",
    "# balancesheet_df = BS[[\"year\",'Stockholders Equity','Payables And Accrued Expenses','Total Liabilities Net Minority Interest']]\n",
    "balancesheet_df[\"Total_long term_liab\"] = balancesheet_df[\"Total Liabilities Net Minority Interest\"] - balancesheet_df[\"Current Liabilities\"] \n",
    "# balancesheet_df[\"Total_long term_liab\"] = balancesheet_df[\"Total Liabilities Net Minority Interest\"] - balancesheet_df[\"Payables And Accrued Expenses\"] \n",
    "balancesheet_df.drop(\"Total Liabilities Net Minority Interest\",axis=\"columns\", inplace =True)\n",
    "balancesheet_df = balancesheet_df.set_index(\"year\").sort_index()\n",
    "balancesheet_df = balancesheet_df.div(balancesheet_df.sum(axis=1), axis=0)\n",
    "balancesheet_df.plot(kind='bar', stacked=True, color=['blue', 'brown', 'red'], ax=axes[0,1])\n",
    "axes[0,1].set(title=\"Balancesheet Proportion\")\n",
    "\n",
    "sns.lineplot(x=df[\"year\"], y= df[\"ROE\"], ax=axes[0,2])\n",
    "axes[0,2].invert_xaxis()\n",
    "axes[0,2].set(title=\"ROE\")\n",
    "\n",
    "bs_ratio_df = df[[\"year\",\"current_ratio\", \"debt_to_equity\"]]\n",
    "bs_ratio_df = bs_ratio_df.melt(id_vars=\"year\",var_name=\"ratio\",value_name=\"amount\")\n",
    "sns.lineplot(x= bs_ratio_df[\"year\"], y= bs_ratio_df[\"amount\"],hue=bs_ratio_df[\"ratio\"], palette=[\"blue\", \"red\"], ax=axes[1,0])\n",
    "sns.lineplot(x= bs_ratio_df[\"year\"], y=1, color = \"black\", linestyle=\"--\", ax=axes[1,0])\n",
    "axes[1,0].invert_xaxis()\n",
    "axes[1,0].set(title=\"Current Ratio and Debt to Equity\")"
   ]
  },
  {
   "cell_type": "markdown",
   "id": "3e10a6b6",
   "metadata": {},
   "source": [
    "# WACC calculations"
   ]
  },
  {
   "cell_type": "markdown",
   "id": "4068f00f",
   "metadata": {},
   "source": [
    "## Extract lates year data"
   ]
  },
  {
   "cell_type": "code",
   "execution_count": 511,
   "id": "05aa115d",
   "metadata": {},
   "outputs": [],
   "source": [
    "latest_year = df.iloc[0]"
   ]
  },
  {
   "cell_type": "markdown",
   "id": "f478bd35",
   "metadata": {},
   "source": [
    "## debt section "
   ]
  },
  {
   "cell_type": "code",
   "execution_count": 512,
   "id": "c62b5e9b",
   "metadata": {},
   "outputs": [
    {
     "data": {
      "text/plain": [
       "Index(['year', 'Total Revenue', 'Operating Revenue', 'Cost Of Revenue',\n",
       "       'Gross Profit', 'Operating Expense',\n",
       "       'Selling General And Administration',\n",
       "       'General And Administrative Expense', 'Selling And Marketing Expense',\n",
       "       'Other Operating Expenses', 'Operating Income',\n",
       "       'Net Non Operating Interest Income Expense',\n",
       "       'Interest Income Non Operating', 'Interest Expense Non Operating',\n",
       "       'Special Income Charges', 'Write Off', 'Other Special Charges',\n",
       "       'Other Non Operating Income Expenses', 'Pretax Income', 'Tax Provision',\n",
       "       'Net Income Common Stockholders', 'Net Income',\n",
       "       'Net Income Including Noncontrolling Interests',\n",
       "       'Net Income Continuous Operations', 'Minority Interests',\n",
       "       'Otherunder Preferred Stock Dividend', 'Average Dilution Earnings',\n",
       "       'Diluted NI Availto Com Stockholders', 'Basic EPS', 'Diluted EPS',\n",
       "       'Basic Average Shares', 'Diluted Average Shares',\n",
       "       'Total Operating Income As Reported', 'Total Expenses',\n",
       "       'Net Income From Continuing And Discontinued Operation',\n",
       "       'Normalized Income', 'Interest Income', 'Interest Expense',\n",
       "       'Net Interest Income', 'EBIT', 'Reconciled Cost Of Revenue',\n",
       "       'Reconciled Depreciation',\n",
       "       'Net Income From Continuing Operation Net Minority Interest',\n",
       "       'Total Unusual Items Excluding Goodwill', 'Total Unusual Items',\n",
       "       'Normalized EBITDA', 'Tax Rate For Calcs',\n",
       "       'Tax Effect Of Unusual Items'],\n",
       "      dtype='object')"
      ]
     },
     "execution_count": 512,
     "metadata": {},
     "output_type": "execute_result"
    }
   ],
   "source": [
    "IS.columns"
   ]
  },
  {
   "cell_type": "code",
   "execution_count": 515,
   "id": "f54d94ab",
   "metadata": {},
   "outputs": [
    {
     "name": "stdout",
     "output_type": "stream",
     "text": [
      "interest expression is expressed as 'Interest Expense' in income statement\n",
      "Latest interest expenditure is: 7918000000.0\n"
     ]
    }
   ],
   "source": [
    "possible_interest_expression = [\"Interest Expense\", \"Interest Expense Non Operating\", 'Net Non Operating Interest Income Expense']\n",
    "for i in possible_interest_expression:\n",
    "    if i in latest_year.index:\n",
    "        interest_expression = i\n",
    "        print(\"interest expression is expressed as \\'{}\\' in income statement\".format(interest_expression))\n",
    "        break\n",
    "\n",
    "print(\"Latest interest expenditure is: {}\".format(latest_year[interest_expression])) "
   ]
  },
  {
   "cell_type": "code",
   "execution_count": 516,
   "id": "3f3124f1",
   "metadata": {},
   "outputs": [],
   "source": [
    "debt = latest_year[\"total_debt\"]\n",
    "\n",
    "total_wacc_value = debt + market_cap\n",
    "total_wacc_value\n",
    "\n",
    "debt_weight = debt/total_wacc_value\n",
    "\n",
    "if abs(latest_year[interest_expression]) != 0 and debt!=0:\n",
    "    debt_cost = abs(latest_year[interest_expression]) / debt\n",
    "elif abs(latest_year[interest_expression]) == 0 and debt==0:\n",
    "    debt_cost = 0\n",
    "elif abs(latest_year[interest_expression]) != 0 and debt==0:\n",
    "    debt_cost = 0\n",
    "else:\n",
    "    debt_cost = 0\n",
    "\n",
    "tax_rate = latest_year['Tax Provision'] / latest_year['Pretax Income']"
   ]
  },
  {
   "cell_type": "code",
   "execution_count": 517,
   "id": "63cccd26",
   "metadata": {},
   "outputs": [
    {
     "name": "stdout",
     "output_type": "stream",
     "text": [
      "interest rate of debt of company is: 2.4477859253855\n",
      "total debt of company is: 323476000000.0\n",
      "total maketcap of company is: 3468854034432\n",
      "total weighted value of company is (debt + market cap): 3792330034432.0\n",
      "equity portion is: 0.9147025714895489\n"
     ]
    }
   ],
   "source": [
    "print(\"interest rate of debt of company is: {}\".format(debt_cost*100))\n",
    "print(\"total debt of company is: {}\".format(debt))\n",
    "print(\"total maketcap of company is: {}\".format(market_cap))\n",
    "print(\"total weighted value of company is (debt + market cap): {}\".format(total_wacc_value))\n",
    "print(\"equity portion is: {}\".format(market_cap/total_wacc_value))"
   ]
  },
  {
   "cell_type": "markdown",
   "id": "58a3c283",
   "metadata": {},
   "source": [
    "## equity section"
   ]
  },
  {
   "cell_type": "code",
   "execution_count": 518,
   "id": "bb9f6a85",
   "metadata": {},
   "outputs": [
    {
     "data": {
      "text/plain": [
       "0.558431"
      ]
     },
     "execution_count": 518,
     "metadata": {},
     "output_type": "execute_result"
    }
   ],
   "source": [
    "if beta == None:\n",
    "    beta = 1\n",
    "beta"
   ]
  },
  {
   "cell_type": "code",
   "execution_count": 519,
   "id": "40978872",
   "metadata": {},
   "outputs": [
    {
     "data": {
      "text/plain": [
       "0.0691784838"
      ]
     },
     "execution_count": 519,
     "metadata": {},
     "output_type": "execute_result"
    }
   ],
   "source": [
    "equity_weight =  market_cap/total_wacc_value\n",
    "\n",
    "equity_cost = risk_free_rate +  beta*(market_return_rate-risk_free_rate)\n",
    "equity_cost"
   ]
  },
  {
   "cell_type": "markdown",
   "id": "e8c649e4",
   "metadata": {},
   "source": [
    "## WACC"
   ]
  },
  {
   "cell_type": "code",
   "execution_count": 521,
   "id": "7036dc40",
   "metadata": {},
   "outputs": [
    {
     "data": {
      "text/plain": [
       "1.0651951776063966"
      ]
     },
     "execution_count": 521,
     "metadata": {},
     "output_type": "execute_result"
    }
   ],
   "source": [
    "wacc = ((equity_weight * equity_cost) + (debt_weight * debt_cost * (1-tax_rate))) + 1\n",
    "wacc"
   ]
  },
  {
   "cell_type": "markdown",
   "id": "213d0744",
   "metadata": {},
   "source": [
    "# Discounted Growth Model"
   ]
  },
  {
   "cell_type": "markdown",
   "id": "986763ff",
   "metadata": {},
   "source": [
    "## a) Cashflow"
   ]
  },
  {
   "cell_type": "code",
   "execution_count": 522,
   "id": "a2a8b994",
   "metadata": {},
   "outputs": [
    {
     "name": "stdout",
     "output_type": "stream",
     "text": [
      "based on average year-on-year growth, intrinsic value is: 224.7694872769469\n",
      "based on CAGR, intrinsic value is: 203.90611911491843\n"
     ]
    }
   ],
   "source": [
    "# averge growth rate\n",
    "ocf_history = list(df['Operating Cash Flow'])\n",
    "DCF_valuation_report(ocf_history)"
   ]
  },
  {
   "cell_type": "markdown",
   "id": "1823a090",
   "metadata": {},
   "source": [
    "## b) Income"
   ]
  },
  {
   "cell_type": "code",
   "execution_count": 523,
   "id": "45754730",
   "metadata": {},
   "outputs": [
    {
     "name": "stdout",
     "output_type": "stream",
     "text": [
      "based on average year-on-year growth, intrinsic value is: 869.0377116243328\n",
      "based on CAGR, intrinsic value is: 857.0496843524694\n"
     ]
    }
   ],
   "source": [
    "ic_history = list(df['Net Income Common Stockholders'])\n",
    "DCF_valuation_report(ic_history)"
   ]
  },
  {
   "cell_type": "markdown",
   "id": "3c74c5c8",
   "metadata": {},
   "source": [
    "## c) Free Cash Flow"
   ]
  },
  {
   "cell_type": "code",
   "execution_count": 524,
   "id": "057f34f0",
   "metadata": {},
   "outputs": [
    {
     "name": "stdout",
     "output_type": "stream",
     "text": [
      "based on average year-on-year growth, intrinsic value is: 174.23786422352438\n",
      "based on CAGR, intrinsic value is: 149.92348430457176\n"
     ]
    }
   ],
   "source": [
    "fcf_history = list(df[\"FCF\"])\n",
    "DCF_valuation_report(fcf_history)"
   ]
  },
  {
   "cell_type": "markdown",
   "id": "20ad86bc",
   "metadata": {},
   "source": [
    "# Dividend Discount Model "
   ]
  },
  {
   "cell_type": "markdown",
   "id": "efa9b218",
   "metadata": {},
   "source": [
    "## a) perpetual dividend growth "
   ]
  },
  {
   "cell_type": "code",
   "execution_count": 525,
   "id": "18658cf4",
   "metadata": {},
   "outputs": [],
   "source": [
    "#get the only completed years with all dividends paid out. Company with fiscal year at the start of year still haven't \n",
    "#completed dividend pay out for the year\n",
    "dividend_year = []\n",
    "if axis[-1] == current_year:\n",
    "    for i in range(0, len(axis)): \n",
    "        dividend_year.append(int(axis[i])-1)\n",
    "        print(dividend_year[i])\n",
    "else: \n",
    "    dividend_year = [int(year) for year in axis]"
   ]
  },
  {
   "cell_type": "code",
   "execution_count": 526,
   "id": "2544b6b8",
   "metadata": {},
   "outputs": [
    {
     "name": "stdout",
     "output_type": "stream",
     "text": [
      "past 4 complete yearly dividend payout are:  [1.6, 1.2, 1.0]\n",
      "DDM valuations is:  -17.091376696248865\n"
     ]
    }
   ],
   "source": [
    "if len(dividend_history)>0:\n",
    "    #filter the last 4 years of dividends payment\n",
    "    dividend_history = dividend_history[dividend_history.index.isin(dividend_year)]\n",
    "    dividend_history = dividend_history.sort_index(ascending=False)\n",
    "    dividend_history = list(dividend_history[\"Dividends\"])\n",
    "    DDM_valuation = perpetual_growth_valuation(dividend_history)\n",
    "else: \n",
    "    DDM_valuation = 0\n",
    " \n",
    "print(\"past 4 complete yearly dividend payout are: \", dividend_history)\n",
    "print(\"DDM valuations is: \", DDM_valuation)"
   ]
  },
  {
   "cell_type": "markdown",
   "id": "467b63ee",
   "metadata": {},
   "source": [
    "### b) perpetual FCF growth"
   ]
  },
  {
   "cell_type": "code",
   "execution_count": 527,
   "id": "b16a4669",
   "metadata": {},
   "outputs": [
    {
     "name": "stdout",
     "output_type": "stream",
     "text": [
      "Assuming perpetual FCF growth at last 3 years' rate. Valuation is: 51.904366443681674\n"
     ]
    }
   ],
   "source": [
    "PFCF_valuation = perpetual_growth_valuation(fcf_history)/shares\n",
    "print(\"Assuming perpetual FCF growth at last 3 years' rate. Valuation is: {}\".format(PFCF_valuation))"
   ]
  },
  {
   "cell_type": "markdown",
   "id": "206879e1",
   "metadata": {},
   "source": [
    "# Valuation Comparison"
   ]
  },
  {
   "cell_type": "code",
   "execution_count": 528,
   "id": "4c4a791e",
   "metadata": {},
   "outputs": [
    {
     "data": {
      "text/plain": [
       "<BarContainer object of 1 artists>"
      ]
     },
     "execution_count": 528,
     "metadata": {},
     "output_type": "execute_result"
    },
    {
     "data": {
      "image/png": "[encoded data removed]",
      "text/plain": [
       "<Figure size 864x216 with 1 Axes>"
      ]
     },
     "metadata": {},
     "output_type": "display_data"
    }
   ],
   "source": [
    "ax = plt.figure(figsize=(12, 3))\n",
    "\n",
    "plt.barh(\"book value\", book_value, color=\"grey\")\n",
    "\n",
    "plt.barh(\"Perpetual FCF Growth\", PFCF_valuation, color=\"green\")\n",
    "plt.barh(\"Dividend Discount Model\", DDM_valuation, color=\"skyblue\")\n",
    "\n",
    "plot_value(\"FCF Average Growth DCF\", get_DCF_value, fcf_history, \"green\")\n",
    "plot_value(\"FCF CAGR DCF\", get_cagr_DCF_value, fcf_history, \"green\")\n",
    "\n",
    "plot_value(\"Income Average Growth DCF\", get_DCF_value,ic_history, \"tan\")\n",
    "plot_value(\"Income CAGR DCF\", get_cagr_DCF_value,ic_history, \"tan\")\n",
    "\n",
    "plot_value(\"Cashflow Average Growth DCF\", get_DCF_value,ocf_history, \"orange\")\n",
    "plot_value(\"Cashflow CAGR DCF\", get_cagr_DCF_value,ocf_history, \"orange\")\n",
    "\n",
    "plt.barh(\"current price\", current_price, color=\"black\")"
   ]
  },
  {
   "cell_type": "markdown",
   "id": "1c60a04d",
   "metadata": {},
   "source": [
    "# Analyst's recommendations"
   ]
  },
  {
   "cell_type": "code",
   "execution_count": 412,
   "id": "d1a13c1b",
   "metadata": {},
   "outputs": [
    {
     "data": {
      "text/plain": [
       "<AxesSubplot:>"
      ]
     },
     "execution_count": 412,
     "metadata": {},
     "output_type": "execute_result"
    },
    {
     "data": {
      "image/png": "[encoded data removed]",
      "text/plain": [
       "<Figure size 432x288 with 1 Axes>"
      ]
     },
     "metadata": {},
     "output_type": "display_data"
    }
   ],
   "source": [
    "ticker.recommendations[\"To Grade\"]\\\n",
    "    .value_counts()\\\n",
    "    .head(8)\\\n",
    "    .plot(kind=\"barh\")"
   ]
  },
  {
   "cell_type": "markdown",
   "id": "4ee919d7",
   "metadata": {},
   "source": [
    "# Other Matrices"
   ]
  },
  {
   "cell_type": "code",
   "execution_count": 413,
   "id": "412b9ba8",
   "metadata": {},
   "outputs": [
    {
     "data": {
      "text/plain": [
       "6594.0005"
      ]
     },
     "execution_count": 413,
     "metadata": {},
     "output_type": "execute_result"
    }
   ],
   "source": [
    "PE_ratio = ticker.info[\"trailingPE\"]\n",
    "PE_ratio"
   ]
  },
  {
   "cell_type": "code",
   "execution_count": 414,
   "id": "0bc35962",
   "metadata": {},
   "outputs": [
    {
     "data": {
      "text/plain": [
       "0.9779"
      ]
     },
     "execution_count": 414,
     "metadata": {},
     "output_type": "execute_result"
    }
   ],
   "source": [
    "ticker.info[\"trailingPegRatio\"]"
   ]
  },
  {
   "cell_type": "code",
   "execution_count": 415,
   "id": "8934fa8a",
   "metadata": {},
   "outputs": [
    {
     "data": {
      "text/plain": [
       "0"
      ]
     },
     "execution_count": 415,
     "metadata": {},
     "output_type": "execute_result"
    }
   ],
   "source": [
    "ticker.info[\"payoutRatio\"]"
   ]
  },
  {
   "cell_type": "markdown",
   "id": "690aeb01",
   "metadata": {},
   "source": [
    "# Development area"
   ]
  },
  {
   "cell_type": "markdown",
   "id": "f6f9b547",
   "metadata": {},
   "source": [
    "## cashflows"
   ]
  },
  {
   "cell_type": "code",
   "execution_count": null,
   "id": "cc29da4e",
   "metadata": {},
   "outputs": [],
   "source": [
    "# axis = list(df[\"year\"])\n",
    "# axis = sorted(axis)\n",
    "# axis"
   ]
  },
  {
   "cell_type": "code",
   "execution_count": null,
   "id": "028c4ab4",
   "metadata": {},
   "outputs": [],
   "source": [
    "# cashflow_df = df[[\"year\",\"Total Cash From Operating Activities\",\"Total Cashflows From Investing Activities\", \"Total Cash From Financing Activities\"]]\n",
    "# cashflow_df = cashflow_df.melt(id_vars=\"year\",var_name=\"cashflow\",value_name=\"amount\")\n",
    "# sns.barplot(\"year\", \"amount\", data=cashflow_df, hue = \"cashflow\", palette = [\"orange\", \"blue\", \"red\"], order=axis)"
   ]
  },
  {
   "cell_type": "code",
   "execution_count": null,
   "id": "6ed1832a",
   "metadata": {},
   "outputs": [],
   "source": [
    "# fcf_df = df[[\"year\",\"FCF\", \"total_debt\"]]\n",
    "# fcf_df = fcf_df.melt(id_vars=\"year\",var_name=\"cashflow\",value_name=\"amount\")\n",
    "# sns.barplot(\"year\", \"amount\", data=fcf_df, hue = \"cashflow\", palette = [\"green\", \"red\"], order=axis)"
   ]
  },
  {
   "cell_type": "code",
   "execution_count": null,
   "id": "3c811039",
   "metadata": {},
   "outputs": [],
   "source": [
    "# cashflow_income= df[[\"year\",\"Total Cash From Operating Activities\",'Net Income Applicable To Common Shares']]\n",
    "# cashflow_income = cashflow_income.melt(id_vars=\"year\",var_name=\"source\",value_name=\"amount\")\n",
    "# sns.barplot(\"year\", \"amount\", data=cashflow_income, hue = \"source\", palette = [\"orange\", \"tan\"], order=axis)"
   ]
  },
  {
   "cell_type": "markdown",
   "id": "3ae576ad",
   "metadata": {},
   "source": [
    "## balance sheet"
   ]
  },
  {
   "cell_type": "code",
   "execution_count": null,
   "id": "c32f871d",
   "metadata": {},
   "outputs": [],
   "source": [
    "# balancesheet_prop= df[[\"year\",'Cash', \"total_debt\", 'Total Assets']]\n",
    "# balancesheet_prop = balancesheet_prop.melt(id_vars=\"year\",var_name=\"source\",value_name=\"amount\")\n",
    "# sns.barplot(\"year\", \"amount\", data=balancesheet_prop, hue = \"source\", palette = [\"green\", \"red\", 'black', \"black\"], order=axis)"
   ]
  },
  {
   "cell_type": "code",
   "execution_count": null,
   "id": "8f5f06ef",
   "metadata": {},
   "outputs": [],
   "source": [
    "# balancesheet_df = BS[[\"year\",'Total Stockholder Equity','Total Current Liabilities','Total Liab']]\n",
    "# balancesheet_df[\"Total_long term_liab\"] = balancesheet_df[\"Total Liab\"] - balancesheet_df[\"Total Current Liabilities\"] \n",
    "# balancesheet_df.drop(\"Total Liab\",axis=\"columns\", inplace =True)\n",
    "# balancesheet_df = balancesheet_df.set_index(\"year\").sort_index()\n",
    "# balancesheet_df = balancesheet_df.div(balancesheet_df.sum(axis=1), axis=0)\n",
    "# balancesheet_df.plot(kind='bar', stacked=True, color=['blue', 'brown', 'red'])"
   ]
  },
  {
   "cell_type": "code",
   "execution_count": null,
   "id": "84b2c52e",
   "metadata": {
    "scrolled": true
   },
   "outputs": [],
   "source": [
    "# ax = sns.lineplot(df[\"year\"], df[\"ROE\"])\n",
    "# ax.invert_xaxis()\n",
    "# ax.set(title=\"ROE\")\n",
    "# ax.legend()"
   ]
  },
  {
   "cell_type": "code",
   "execution_count": null,
   "id": "a371a017",
   "metadata": {},
   "outputs": [],
   "source": [
    "# bs_ratio_df = df[[\"year\",\"current_ratio\", \"debt_to_equity\"]]\n",
    "# bs_ratio_df = bs_ratio_df.melt(id_vars=\"year\",var_name=\"ratio\",value_name=\"amount\")\n",
    "# ax = sns.lineplot(bs_ratio_df[\"year\"], bs_ratio_df[\"amount\"],hue=bs_ratio_df[\"ratio\"], palette=[\"blue\", \"red\"])\n",
    "# ax = sns.lineplot(bs_ratio_df[\"year\"], 1, color = \"black\", linestyle=\"--\")\n",
    "# ax.invert_xaxis()\n",
    "# ax.legend()"
   ]
  },
  {
   "cell_type": "code",
   "execution_count": 21,
   "id": "45b54605",
   "metadata": {},
   "outputs": [
    {
     "data": {
      "text/plain": [
       "dict_keys(['zip', 'sector', 'fullTimeEmployees', 'longBusinessSummary', 'city', 'phone', 'state', 'country', 'companyOfficers', 'website', 'maxAge', 'address1', 'industry', 'ebitdaMargins', 'profitMargins', 'grossMargins', 'operatingCashflow', 'revenueGrowth', 'operatingMargins', 'ebitda', 'targetLowPrice', 'recommendationKey', 'grossProfits', 'freeCashflow', 'targetMedianPrice', 'currentPrice', 'earningsGrowth', 'currentRatio', 'returnOnAssets', 'numberOfAnalystOpinions', 'targetMeanPrice', 'debtToEquity', 'returnOnEquity', 'targetHighPrice', 'totalCash', 'totalDebt', 'totalRevenue', 'totalCashPerShare', 'financialCurrency', 'revenuePerShare', 'quickRatio', 'recommendationMean', 'exchange', 'shortName', 'longName', 'exchangeTimezoneName', 'exchangeTimezoneShortName', 'isEsgPopulated', 'gmtOffSetMilliseconds', 'quoteType', 'symbol', 'messageBoardId', 'market', 'annualHoldingsTurnover', 'enterpriseToRevenue', 'beta3Year', 'enterpriseToEbitda', '52WeekChange', 'morningStarRiskRating', 'forwardEps', 'revenueQuarterlyGrowth', 'sharesOutstanding', 'fundInceptionDate', 'annualReportExpenseRatio', 'totalAssets', 'bookValue', 'sharesShort', 'sharesPercentSharesOut', 'fundFamily', 'lastFiscalYearEnd', 'heldPercentInstitutions', 'netIncomeToCommon', 'trailingEps', 'lastDividendValue', 'SandP52WeekChange', 'priceToBook', 'heldPercentInsiders', 'nextFiscalYearEnd', 'yield', 'mostRecentQuarter', 'shortRatio', 'sharesShortPreviousMonthDate', 'floatShares', 'beta', 'enterpriseValue', 'priceHint', 'threeYearAverageReturn', 'lastSplitDate', 'lastSplitFactor', 'legalType', 'lastDividendDate', 'morningStarOverallRating', 'earningsQuarterlyGrowth', 'priceToSalesTrailing12Months', 'dateShortInterest', 'pegRatio', 'ytdReturn', 'forwardPE', 'lastCapGain', 'shortPercentOfFloat', 'sharesShortPriorMonth', 'impliedSharesOutstanding', 'category', 'fiveYearAverageReturn', 'previousClose', 'regularMarketOpen', 'twoHundredDayAverage', 'trailingAnnualDividendYield', 'payoutRatio', 'volume24Hr', 'regularMarketDayHigh', 'navPrice', 'averageDailyVolume10Day', 'regularMarketPreviousClose', 'fiftyDayAverage', 'trailingAnnualDividendRate', 'open', 'toCurrency', 'averageVolume10days', 'expireDate', 'algorithm', 'dividendRate', 'exDividendDate', 'circulatingSupply', 'startDate', 'regularMarketDayLow', 'currency', 'trailingPE', 'regularMarketVolume', 'lastMarket', 'maxSupply', 'openInterest', 'marketCap', 'volumeAllCurrencies', 'strikePrice', 'averageVolume', 'dayLow', 'ask', 'askSize', 'volume', 'fiftyTwoWeekHigh', 'fromCurrency', 'fiveYearAvgDividendYield', 'fiftyTwoWeekLow', 'bid', 'tradeable', 'dividendYield', 'bidSize', 'dayHigh', 'coinMarketCapLink', 'regularMarketPrice', 'preMarketPrice', 'logo_url', 'trailingPegRatio'])"
      ]
     },
     "execution_count": 21,
     "metadata": {},
     "output_type": "execute_result"
    }
   ],
   "source": [
    "ticker.info.keys()"
   ]
  },
  {
   "cell_type": "code",
   "execution_count": null,
   "id": "c1daf4e8",
   "metadata": {},
   "outputs": [],
   "source": []
  },
  {
   "cell_type": "code",
   "execution_count": null,
   "id": "0b418ffc",
   "metadata": {},
   "outputs": [],
   "source": []
  }
 ],
 "metadata": {
  "kernelspec": {
   "display_name": "Python 3",
   "language": "python",
   "name": "python3"
  },
  "language_info": {
   "codemirror_mode": {
    "name": "ipython",
    "version": 3
   },
   "file_extension": ".py",
   "mimetype": "text/x-python",
   "name": "python",
   "nbconvert_exporter": "python",
   "pygments_lexer": "ipython3",
   "version": "3.8.8"
  }
 },
 "nbformat": 4,
 "nbformat_minor": 5
}
